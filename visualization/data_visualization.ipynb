{
 "cells": [
  {
   "cell_type": "code",
   "execution_count": 266,
   "metadata": {},
   "outputs": [],
   "source": [
    "# visualisation\n",
    "import matplotlib.pyplot as plt\n",
    "import seaborn as sns\n",
    "import PIL\n",
    "from PIL import Image\n",
    "import scipy.stats as ss\n",
    "\n",
    "# data preprocessing\n",
    "import pandas as pd\n",
    "# linear algebra\n",
    "import numpy as np\n",
    "\n",
    "import itertools"
   ]
  },
  {
   "cell_type": "code",
   "execution_count": 3,
   "metadata": {},
   "outputs": [],
   "source": [
    "plays_dataframe = pd.read_csv('PlayList.csv')\n",
    "players_dataframe = pd.read_csv('PlayerTrackData.csv')\n",
    "injuries_dataframe = pd.read_csv('InjuryRecord.csv')"
   ]
  },
  {
   "cell_type": "markdown",
   "metadata": {},
   "source": [
    "### Exploring plays data"
   ]
  },
  {
   "cell_type": "code",
   "execution_count": 4,
   "metadata": {},
   "outputs": [
    {
     "data": {
      "text/html": [
       "<div>\n",
       "<style scoped>\n",
       "    .dataframe tbody tr th:only-of-type {\n",
       "        vertical-align: middle;\n",
       "    }\n",
       "\n",
       "    .dataframe tbody tr th {\n",
       "        vertical-align: top;\n",
       "    }\n",
       "\n",
       "    .dataframe thead th {\n",
       "        text-align: right;\n",
       "    }\n",
       "</style>\n",
       "<table border=\"1\" class=\"dataframe\">\n",
       "  <thead>\n",
       "    <tr style=\"text-align: right;\">\n",
       "      <th></th>\n",
       "      <th>PlayerKey</th>\n",
       "      <th>GameID</th>\n",
       "      <th>PlayKey</th>\n",
       "      <th>RosterPosition</th>\n",
       "      <th>PlayerDay</th>\n",
       "      <th>PlayerGame</th>\n",
       "      <th>StadiumType</th>\n",
       "      <th>FieldType</th>\n",
       "      <th>Temperature</th>\n",
       "      <th>Weather</th>\n",
       "      <th>PlayType</th>\n",
       "      <th>PlayerGamePlay</th>\n",
       "      <th>Position</th>\n",
       "      <th>PositionGroup</th>\n",
       "    </tr>\n",
       "  </thead>\n",
       "  <tbody>\n",
       "    <tr>\n",
       "      <td>0</td>\n",
       "      <td>26624</td>\n",
       "      <td>26624-1</td>\n",
       "      <td>26624-1-1</td>\n",
       "      <td>Quarterback</td>\n",
       "      <td>1</td>\n",
       "      <td>1</td>\n",
       "      <td>Outdoor</td>\n",
       "      <td>Synthetic</td>\n",
       "      <td>63</td>\n",
       "      <td>Clear and warm</td>\n",
       "      <td>Pass</td>\n",
       "      <td>1</td>\n",
       "      <td>QB</td>\n",
       "      <td>QB</td>\n",
       "    </tr>\n",
       "    <tr>\n",
       "      <td>1</td>\n",
       "      <td>26624</td>\n",
       "      <td>26624-1</td>\n",
       "      <td>26624-1-2</td>\n",
       "      <td>Quarterback</td>\n",
       "      <td>1</td>\n",
       "      <td>1</td>\n",
       "      <td>Outdoor</td>\n",
       "      <td>Synthetic</td>\n",
       "      <td>63</td>\n",
       "      <td>Clear and warm</td>\n",
       "      <td>Pass</td>\n",
       "      <td>2</td>\n",
       "      <td>QB</td>\n",
       "      <td>QB</td>\n",
       "    </tr>\n",
       "    <tr>\n",
       "      <td>2</td>\n",
       "      <td>26624</td>\n",
       "      <td>26624-1</td>\n",
       "      <td>26624-1-3</td>\n",
       "      <td>Quarterback</td>\n",
       "      <td>1</td>\n",
       "      <td>1</td>\n",
       "      <td>Outdoor</td>\n",
       "      <td>Synthetic</td>\n",
       "      <td>63</td>\n",
       "      <td>Clear and warm</td>\n",
       "      <td>Rush</td>\n",
       "      <td>3</td>\n",
       "      <td>QB</td>\n",
       "      <td>QB</td>\n",
       "    </tr>\n",
       "    <tr>\n",
       "      <td>3</td>\n",
       "      <td>26624</td>\n",
       "      <td>26624-1</td>\n",
       "      <td>26624-1-4</td>\n",
       "      <td>Quarterback</td>\n",
       "      <td>1</td>\n",
       "      <td>1</td>\n",
       "      <td>Outdoor</td>\n",
       "      <td>Synthetic</td>\n",
       "      <td>63</td>\n",
       "      <td>Clear and warm</td>\n",
       "      <td>Rush</td>\n",
       "      <td>4</td>\n",
       "      <td>QB</td>\n",
       "      <td>QB</td>\n",
       "    </tr>\n",
       "    <tr>\n",
       "      <td>4</td>\n",
       "      <td>26624</td>\n",
       "      <td>26624-1</td>\n",
       "      <td>26624-1-5</td>\n",
       "      <td>Quarterback</td>\n",
       "      <td>1</td>\n",
       "      <td>1</td>\n",
       "      <td>Outdoor</td>\n",
       "      <td>Synthetic</td>\n",
       "      <td>63</td>\n",
       "      <td>Clear and warm</td>\n",
       "      <td>Pass</td>\n",
       "      <td>5</td>\n",
       "      <td>QB</td>\n",
       "      <td>QB</td>\n",
       "    </tr>\n",
       "  </tbody>\n",
       "</table>\n",
       "</div>"
      ],
      "text/plain": [
       "   PlayerKey   GameID    PlayKey RosterPosition  PlayerDay  PlayerGame  \\\n",
       "0      26624  26624-1  26624-1-1    Quarterback          1           1   \n",
       "1      26624  26624-1  26624-1-2    Quarterback          1           1   \n",
       "2      26624  26624-1  26624-1-3    Quarterback          1           1   \n",
       "3      26624  26624-1  26624-1-4    Quarterback          1           1   \n",
       "4      26624  26624-1  26624-1-5    Quarterback          1           1   \n",
       "\n",
       "  StadiumType  FieldType  Temperature         Weather PlayType  \\\n",
       "0     Outdoor  Synthetic           63  Clear and warm     Pass   \n",
       "1     Outdoor  Synthetic           63  Clear and warm     Pass   \n",
       "2     Outdoor  Synthetic           63  Clear and warm     Rush   \n",
       "3     Outdoor  Synthetic           63  Clear and warm     Rush   \n",
       "4     Outdoor  Synthetic           63  Clear and warm     Pass   \n",
       "\n",
       "   PlayerGamePlay Position PositionGroup  \n",
       "0               1       QB            QB  \n",
       "1               2       QB            QB  \n",
       "2               3       QB            QB  \n",
       "3               4       QB            QB  \n",
       "4               5       QB            QB  "
      ]
     },
     "execution_count": 4,
     "metadata": {},
     "output_type": "execute_result"
    }
   ],
   "source": [
    "plays_dataframe.head()"
   ]
  },
  {
   "cell_type": "markdown",
   "metadata": {},
   "source": [
    "Let's explore this data.First, let's find how many games, players and plays we have in total."
   ]
  },
  {
   "cell_type": "code",
   "execution_count": 5,
   "metadata": {},
   "outputs": [
    {
     "name": "stdout",
     "output_type": "stream",
     "text": [
      "Overall we have 250 players,267005 plays and 5712 games\n"
     ]
    }
   ],
   "source": [
    "plays_overrall = plays_dataframe.PlayKey.nunique()  # unique selects the unique values, n in front goes for number\n",
    "players_overall = plays_dataframe.PlayerKey.nunique()\n",
    "games_overall = plays_dataframe.GameID.nunique()\n",
    "print('Overall we have {} players,'.format(players_overall) + '{} plays'.format(plays_overrall) + \n",
    "     ' and {} games'.format(games_overall))"
   ]
  },
  {
   "cell_type": "code",
   "execution_count": 6,
   "metadata": {},
   "outputs": [
    {
     "name": "stdout",
     "output_type": "stream",
     "text": [
      "<class 'pandas.core.frame.DataFrame'>\n",
      "RangeIndex: 267005 entries, 0 to 267004\n",
      "Data columns (total 14 columns):\n",
      "PlayerKey         267005 non-null int64\n",
      "GameID            267005 non-null object\n",
      "PlayKey           267005 non-null object\n",
      "RosterPosition    267005 non-null object\n",
      "PlayerDay         267005 non-null int64\n",
      "PlayerGame        267005 non-null int64\n",
      "StadiumType       250095 non-null object\n",
      "FieldType         267005 non-null object\n",
      "Temperature       267005 non-null int64\n",
      "Weather           248314 non-null object\n",
      "PlayType          266638 non-null object\n",
      "PlayerGamePlay    267005 non-null int64\n",
      "Position          267005 non-null object\n",
      "PositionGroup     267005 non-null object\n",
      "dtypes: int64(5), object(9)\n",
      "memory usage: 28.5+ MB\n"
     ]
    }
   ],
   "source": [
    "plays_dataframe.info() "
   ]
  },
  {
   "cell_type": "markdown",
   "metadata": {},
   "source": [
    "Let's explore this data types:games, plays and players.Idea is to clean the data a little bit if values have appoximately the same meaning,deleting the irrelevant ones to not trahs the graphs(that have very few entries) and than create a diagrams to look for correlations."
   ]
  },
  {
   "cell_type": "code",
   "execution_count": 7,
   "metadata": {},
   "outputs": [
    {
     "data": {
      "text/plain": [
       "array(['Clear and warm', 'Mostly Cloudy', 'Sunny', 'Clear', 'Cloudy',\n",
       "       'Cloudy, fog started developing in 2nd quarter', 'Rain',\n",
       "       'Partly Cloudy', 'Mostly cloudy', 'Cloudy and cold',\n",
       "       'Cloudy and Cool', 'Rain Chance 40%', 'Controlled Climate',\n",
       "       'Sunny and warm', 'Partly cloudy', 'Clear and Cool',\n",
       "       'Clear and cold', 'Sunny and cold', 'Indoor', nan, 'Partly Sunny',\n",
       "       'N/A (Indoors)', 'Mostly Sunny', 'Indoors', 'Clear Skies',\n",
       "       'Partly sunny', 'Showers', 'N/A Indoor', 'Sunny and clear', 'Snow',\n",
       "       'Scattered Showers', 'Party Cloudy', 'Clear skies',\n",
       "       'Rain likely, temps in low 40s.', 'Hazy', 'Partly Clouidy',\n",
       "       'Sunny Skies', 'Overcast', 'Cloudy, 50% change of rain', 'Fair',\n",
       "       'Light Rain', 'Partly clear', 'Mostly Coudy', '10% Chance of Rain',\n",
       "       'Cloudy, chance of rain', 'Heat Index 95',\n",
       "       'Sunny, highs to upper 80s', 'Sun & clouds',\n",
       "       'Heavy lake effect snow', 'Mostly sunny', 'Cloudy, Rain',\n",
       "       'Sunny, Windy', 'Mostly Sunny Skies', 'Rainy',\n",
       "       '30% Chance of Rain', 'Cloudy, light snow accumulating 1-3\"',\n",
       "       'cloudy', 'Clear and Sunny', 'Coudy', 'Clear and sunny',\n",
       "       'Clear to Partly Cloudy',\n",
       "       'Cloudy with periods of rain, thunder possible. Winds shifting to WNW, 10-20 mph.',\n",
       "       'Rain shower', 'Cold'], dtype=object)"
      ]
     },
     "execution_count": 7,
     "metadata": {},
     "output_type": "execute_result"
    }
   ],
   "source": [
    "plays_dataframe.Weather.unique()"
   ]
  },
  {
   "cell_type": "markdown",
   "metadata": {},
   "source": [
    "We have many types of weather, but we can separate them in a few categories: **rain, snow, clear, clody and indoors** when the weather doesn't matter.But there are also some that we cannot strictly categorize.Let's see the precantage of each weather type."
   ]
  },
  {
   "cell_type": "markdown",
   "metadata": {},
   "source": [
    "I don't see much meaning in categories such as Cold and Heat Index 95."
   ]
  },
  {
   "cell_type": "code",
   "execution_count": 8,
   "metadata": {},
   "outputs": [
    {
     "data": {
      "text/plain": [
       "0.0018323574184298912"
      ]
     },
     "execution_count": 8,
     "metadata": {},
     "output_type": "execute_result"
    }
   ],
   "source": [
    "plays_dataframe.Weather.value_counts(normalize=True)['Cold']\n",
    "plays_dataframe.Weather.value_counts(normalize=True)['Heat Index 95']"
   ]
  },
  {
   "cell_type": "code",
   "execution_count": 9,
   "metadata": {},
   "outputs": [
    {
     "data": {
      "text/plain": [
       "Cloudy                                                                              0.244469\n",
       "Sunny                                                                               0.208317\n",
       "Partly Cloudy                                                                       0.114625\n",
       "Clear                                                                               0.104396\n",
       "Mostly Cloudy                                                                       0.045008\n",
       "                                                                                      ...   \n",
       "30% Chance of Rain                                                                  0.001426\n",
       "Partly Clouidy                                                                      0.001216\n",
       "Coudy                                                                               0.001120\n",
       "Cloudy with periods of rain, thunder possible. Winds shifting to WNW, 10-20 mph.    0.000991\n",
       "Party Cloudy                                                                        0.000926\n",
       "Name: Weather, Length: 63, dtype: float64"
      ]
     },
     "execution_count": 9,
     "metadata": {},
     "output_type": "execute_result"
    }
   ],
   "source": [
    "plays_dataframe.Weather.value_counts(normalize=True)"
   ]
  },
  {
   "cell_type": "markdown",
   "metadata": {},
   "source": [
    "Now let's explore studium types and field types."
   ]
  },
  {
   "cell_type": "code",
   "execution_count": 10,
   "metadata": {},
   "outputs": [
    {
     "data": {
      "text/plain": [
       "array(['Outdoor', 'Indoors', 'Oudoor', 'Outdoors', 'Open', 'Closed Dome',\n",
       "       'Domed, closed', nan, 'Dome', 'Indoor', 'Domed',\n",
       "       'Retr. Roof-Closed', 'Outdoor Retr Roof-Open', 'Retractable Roof',\n",
       "       'Ourdoor', 'Indoor, Roof Closed', 'Retr. Roof - Closed', 'Bowl',\n",
       "       'Outddors', 'Retr. Roof-Open', 'Dome, closed', 'Indoor, Open Roof',\n",
       "       'Domed, Open', 'Domed, open', 'Heinz Field', 'Cloudy',\n",
       "       'Retr. Roof - Open', 'Retr. Roof Closed', 'Outdor', 'Outside'],\n",
       "      dtype=object)"
      ]
     },
     "execution_count": 10,
     "metadata": {},
     "output_type": "execute_result"
    }
   ],
   "source": [
    "plays_dataframe.StadiumType.unique()"
   ]
  },
  {
   "cell_type": "code",
   "execution_count": 11,
   "metadata": {},
   "outputs": [
    {
     "data": {
      "text/plain": [
       "array(['Synthetic', 'Natural'], dtype=object)"
      ]
     },
     "execution_count": 11,
     "metadata": {},
     "output_type": "execute_result"
    }
   ],
   "source": [
    "plays_dataframe.FieldType.unique()"
   ]
  },
  {
   "cell_type": "markdown",
   "metadata": {},
   "source": [
    "So, FieldType can go directly without cleaning, but there are too many similar types of StadiumType => let's clean it.Heinz Field, Cloudy and Bowl have no meaning behind them => we need to delete them."
   ]
  },
  {
   "cell_type": "code",
   "execution_count": 12,
   "metadata": {},
   "outputs": [],
   "source": [
    "def clean_weather(row):\n",
    "    cloudy = ['Cloudy 50% change of rain', 'Hazy', 'Cloudy.', 'Overcast', 'Mostly Cloudy',\n",
    "          'Cloudy, fog started developing in 2nd quarter', 'Partly Cloudy',\n",
    "          'Mostly cloudy', 'Rain Chance 40%',' Partly cloudy', 'Party Cloudy',\n",
    "          'Rain likely, temps in low 40s', 'Partly Clouidy', 'Cloudy, 50% change of rain','Mostly Coudy', '10% Chance of Rain',\n",
    "          'Cloudy, chance of rain', '30% Chance of Rain', 'Cloudy, light snow accumulating 1-3\"',\n",
    "          'cloudy', 'Coudy', 'Cloudy with periods of rain, thunder possible. Winds shifting to WNW, 10-20 mph.',\n",
    "         'Cloudy fog started developing in 2nd quarter', 'Cloudy light snow accumulating 1-3\"',\n",
    "         'Cloudywith periods of rain, thunder possible. Winds shifting to WNW, 10-20 mph.',\n",
    "         'Cloudy 50% change of rain', 'Cloudy and cold',\n",
    "       'Cloudy and Cool', 'Partly cloudy']\n",
    "    \n",
    "    clear = ['Clear, Windy',' Clear to Cloudy', 'Clear, highs to upper 80s',\n",
    "             'Clear and clear','Partly sunny',\n",
    "             'Clear, Windy', 'Clear skies', 'Sunny', 'Partly Sunny', 'Mostly Sunny', 'Clear Skies',\n",
    "             'Sunny Skies', 'Partly clear', 'Fair', 'Sunny, highs to upper 80s', 'Sun & clouds', 'Mostly sunny','Sunny, Windy',\n",
    "             'Mostly Sunny Skies', 'Clear and Sunny', 'Clear and sunny','Clear to Partly Cloudy', 'Clear Skies',\n",
    "            'Clear and cold', 'Clear and warm', 'Clear and Cool', 'Sunny and cold', 'Sunny and warm', 'Sunny and clear']\n",
    "    \n",
    "    rainy = ['Rainy', 'Scattered Showers', 'Showers', 'Cloudy Rain', 'Light Rain', 'Rain shower', 'Rain likely, temps in low 40s.', 'Cloudy, Rain']\n",
    "    \n",
    "    snow = ['Heavy lake effect snow']\n",
    "    \n",
    "    indoor = ['Controlled Climate', 'Indoors', 'N/A Indoor', 'N/A (Indoors)']\n",
    "        \n",
    "    if row.Weather in cloudy:\n",
    "        return 'Cloudy'\n",
    "    \n",
    "    if row.Weather in indoor:\n",
    "        return 'Indoor'\n",
    "    \n",
    "    if row.Weather in clear:\n",
    "        return 'Clear'\n",
    "    \n",
    "    if row.Weather in rainy:\n",
    "        return 'Rain'\n",
    "    \n",
    "    if row.Weather in snow:\n",
    "        return 'Snow'\n",
    "      \n",
    "    if row.Weather in ['Cloudy.', 'Heat Index 95', 'Cold']:\n",
    "        return np.nan\n",
    "    \n",
    "    return row.Weather\n",
    "\n",
    "def clean_stadiumtype(row):\n",
    "    if row.StadiumType in ['Bowl', 'Heinz Field', 'Cloudy']:\n",
    "        return np.nan\n",
    "    else:\n",
    "        return row.StadiumType\n",
    "        \n",
    "\n",
    "\n",
    "def clean_data(arr):\n",
    "    play_df_cleaned = arr.copy()\n",
    "    \n",
    "    # clean StadiumType\n",
    "    play_df_cleaned['StadiumType'] = play_df_cleaned['StadiumType'].str.replace(r'Oudoor|Outdoors|Ourdoor|Outddors|Outdor|Outside', 'Outdoor')\n",
    "    play_df_cleaned['StadiumType'] = play_df_cleaned['StadiumType'].str.replace(r'Indoors|Indoor, Roof Closed|Indoor, Open Roof', 'Indoor')\n",
    "    play_df_cleaned['StadiumType'] = play_df_cleaned['StadiumType'].str.replace(r'Closed Dome|Domed, closed|Domed, Open|Domed, open|Dome, closed|Domed', 'Dome')\n",
    "    play_df_cleaned['StadiumType'] = play_df_cleaned['StadiumType'].str.replace(r'Retr. Roof-Closed|Outdoor Retr Roof-Open|Retr. Roof - Closed|Retr. Roof-Open|Retr. Roof - Open|Retr. Roof Closed', 'Retractable Roof')\n",
    "    play_df_cleaned['StadiumType'] = play_df_cleaned.apply(lambda row: clean_stadiumtype(row), axis=1)\n",
    "    \n",
    "    play_df_cleaned['Weather'] = play_df_cleaned.apply(lambda row: clean_weather(row), axis=1)\n",
    "    \n",
    "    return play_df_cleaned\n",
    "\n",
    "plays_dataframe = clean_data(plays_dataframe)  # NEXT TIME CREATE A DIFFERENT VALUE, OR MANIPULATE WITH COPY!"
   ]
  },
  {
   "cell_type": "code",
   "execution_count": 13,
   "metadata": {},
   "outputs": [
    {
     "data": {
      "text/plain": [
       "array(['Clear', 'Cloudy', 'Rain', 'Indoor', nan, 'Snow'], dtype=object)"
      ]
     },
     "execution_count": 13,
     "metadata": {},
     "output_type": "execute_result"
    }
   ],
   "source": [
    "plays_dataframe.Weather.unique()  # => everything works just OK."
   ]
  },
  {
   "cell_type": "code",
   "execution_count": 14,
   "metadata": {},
   "outputs": [
    {
     "data": {
      "text/plain": [
       "array(['Outdoor', 'Indoor', 'Open', 'Dome', nan, 'Retractable Roof'],\n",
       "      dtype=object)"
      ]
     },
     "execution_count": 14,
     "metadata": {},
     "output_type": "execute_result"
    }
   ],
   "source": [
    "plays_dataframe.StadiumType.unique()"
   ]
  },
  {
   "cell_type": "markdown",
   "metadata": {},
   "source": [
    "Let's plot everything we got."
   ]
  },
  {
   "cell_type": "code",
   "execution_count": 15,
   "metadata": {},
   "outputs": [
    {
     "data": {
      "text/plain": [
       "-999    24170\n",
       " 68     14127\n",
       " 72      6970\n",
       " 61      6744\n",
       " 71      6261\n",
       "        ...  \n",
       " 34       418\n",
       " 32       383\n",
       " 10       292\n",
       " 26       243\n",
       " 9        210\n",
       "Name: Temperature, Length: 79, dtype: int64"
      ]
     },
     "execution_count": 15,
     "metadata": {},
     "output_type": "execute_result"
    }
   ],
   "source": [
    "game_info = plays_dataframe.loc[:, ['Weather', 'StadiumType', 'FieldType', 'Temperature']]\n",
    "game_info.Temperature.unique()\n",
    "game_info.Temperature.value_counts()"
   ]
  },
  {
   "cell_type": "code",
   "execution_count": 16,
   "metadata": {},
   "outputs": [
    {
     "data": {
      "image/png": "[encoded data removed]",
      "text/plain": [
       "<Figure size 864x864 with 4 Axes>"
      ]
     },
     "metadata": {},
     "output_type": "display_data"
    }
   ],
   "source": [
    "# Types of plots can be found in https://matplotlib.org/3.1.1/tutorials/introductory/sample_plots.html\n",
    "plt.style.use('dark_background')\n",
    "fig = plt.figure(figsize=(12, 12), edgecolor='silver')\n",
    "\n",
    "# grid helps us to place our subplots. 'nrows' indicates that our 12 inches will be\n",
    "# broken into 4 row 3 inches each, in which we can specify where to place sublplots.The same goes for cols\n",
    "# Also we make distances between sublots with hspace(height) and wspace(width)\n",
    "grid = plt.GridSpec(nrows=4, ncols=4, hspace=0.3, wspace=0.4)\n",
    "\n",
    "# So, we place two plots with info about stadium in one row, each subplot containing half of the columns\n",
    "stadiumT_fig = fig.add_subplot(grid[0, 0:3])\n",
    "fieldT_fig = fig.add_subplot(grid[0, 3])\n",
    "weather_fig = fig.add_subplot(grid[1, 0:])  # aka we place weather in the second row, containing all the columns\n",
    "temperature_fig = fig.add_subplot(grid[2, :])\n",
    "\n",
    "\n",
    "# .values gives the values of .keys()\n",
    "weather_fig.bar(game_info.Weather.value_counts().keys(), \n",
    "                game_info.Weather.value_counts().values, color='#A4BEF3')\n",
    "weather_fig.set_title('Weather')\n",
    "\n",
    "# color indicates the colors of the bars.Can contain lists.\n",
    "stadiumT_fig.bar(game_info.StadiumType.value_counts().keys(), \n",
    "                game_info.StadiumType.value_counts().values, color=['#659B5E', '#553D36', '#BFD7EA', '#F9AB55'])\n",
    "stadiumT_fig.set_title('StadiumType')\n",
    "fieldT_fig.bar(game_info.FieldType.value_counts().keys(), \n",
    "                game_info.FieldType.value_counts().values, color=['#659B5E', '#553D36'])\n",
    "fieldT_fig.set_title('FieldType')\n",
    "\n",
    "# For temperature it's better to use histogram.\n",
    "temperature_fig.hist(game_info.Temperature.astype(int).values, bins=40, range = (0, 100), color='red')\n",
    "temperature_fig.set_title('Temperature')\n",
    "temperature_fig.set_xticks(range(0, 100, 10))\n",
    "\n",
    "\n",
    "plt.suptitle('Game Info', fontsize=20, color='gold')\n",
    "plt.show()  # only graph without any addtional info"
   ]
  },
  {
   "cell_type": "markdown",
   "metadata": {},
   "source": [
    "*From here* we can conclude, that:\n",
    "**Tempreture matters** because most of the games are held outsied.\n",
    "**Tempreture and weather variate differently** -> we can look into and see the relations."
   ]
  },
  {
   "cell_type": "markdown",
   "metadata": {},
   "source": [
    "Let's look into the player's information."
   ]
  },
  {
   "cell_type": "code",
   "execution_count": 17,
   "metadata": {},
   "outputs": [
    {
     "data": {
      "text/html": [
       "<div>\n",
       "<style scoped>\n",
       "    .dataframe tbody tr th:only-of-type {\n",
       "        vertical-align: middle;\n",
       "    }\n",
       "\n",
       "    .dataframe tbody tr th {\n",
       "        vertical-align: top;\n",
       "    }\n",
       "\n",
       "    .dataframe thead th {\n",
       "        text-align: right;\n",
       "    }\n",
       "</style>\n",
       "<table border=\"1\" class=\"dataframe\">\n",
       "  <thead>\n",
       "    <tr style=\"text-align: right;\">\n",
       "      <th></th>\n",
       "      <th>PlayerKey</th>\n",
       "      <th>GameID</th>\n",
       "      <th>PlayKey</th>\n",
       "      <th>RosterPosition</th>\n",
       "      <th>PlayerDay</th>\n",
       "      <th>PlayerGame</th>\n",
       "      <th>StadiumType</th>\n",
       "      <th>FieldType</th>\n",
       "      <th>Temperature</th>\n",
       "      <th>Weather</th>\n",
       "      <th>PlayType</th>\n",
       "      <th>PlayerGamePlay</th>\n",
       "      <th>Position</th>\n",
       "      <th>PositionGroup</th>\n",
       "    </tr>\n",
       "  </thead>\n",
       "  <tbody>\n",
       "    <tr>\n",
       "      <td>0</td>\n",
       "      <td>26624</td>\n",
       "      <td>26624-1</td>\n",
       "      <td>26624-1-1</td>\n",
       "      <td>Quarterback</td>\n",
       "      <td>1</td>\n",
       "      <td>1</td>\n",
       "      <td>Outdoor</td>\n",
       "      <td>Synthetic</td>\n",
       "      <td>63</td>\n",
       "      <td>Clear</td>\n",
       "      <td>Pass</td>\n",
       "      <td>1</td>\n",
       "      <td>QB</td>\n",
       "      <td>QB</td>\n",
       "    </tr>\n",
       "    <tr>\n",
       "      <td>1</td>\n",
       "      <td>26624</td>\n",
       "      <td>26624-1</td>\n",
       "      <td>26624-1-2</td>\n",
       "      <td>Quarterback</td>\n",
       "      <td>1</td>\n",
       "      <td>1</td>\n",
       "      <td>Outdoor</td>\n",
       "      <td>Synthetic</td>\n",
       "      <td>63</td>\n",
       "      <td>Clear</td>\n",
       "      <td>Pass</td>\n",
       "      <td>2</td>\n",
       "      <td>QB</td>\n",
       "      <td>QB</td>\n",
       "    </tr>\n",
       "    <tr>\n",
       "      <td>2</td>\n",
       "      <td>26624</td>\n",
       "      <td>26624-1</td>\n",
       "      <td>26624-1-3</td>\n",
       "      <td>Quarterback</td>\n",
       "      <td>1</td>\n",
       "      <td>1</td>\n",
       "      <td>Outdoor</td>\n",
       "      <td>Synthetic</td>\n",
       "      <td>63</td>\n",
       "      <td>Clear</td>\n",
       "      <td>Rush</td>\n",
       "      <td>3</td>\n",
       "      <td>QB</td>\n",
       "      <td>QB</td>\n",
       "    </tr>\n",
       "    <tr>\n",
       "      <td>3</td>\n",
       "      <td>26624</td>\n",
       "      <td>26624-1</td>\n",
       "      <td>26624-1-4</td>\n",
       "      <td>Quarterback</td>\n",
       "      <td>1</td>\n",
       "      <td>1</td>\n",
       "      <td>Outdoor</td>\n",
       "      <td>Synthetic</td>\n",
       "      <td>63</td>\n",
       "      <td>Clear</td>\n",
       "      <td>Rush</td>\n",
       "      <td>4</td>\n",
       "      <td>QB</td>\n",
       "      <td>QB</td>\n",
       "    </tr>\n",
       "    <tr>\n",
       "      <td>4</td>\n",
       "      <td>26624</td>\n",
       "      <td>26624-1</td>\n",
       "      <td>26624-1-5</td>\n",
       "      <td>Quarterback</td>\n",
       "      <td>1</td>\n",
       "      <td>1</td>\n",
       "      <td>Outdoor</td>\n",
       "      <td>Synthetic</td>\n",
       "      <td>63</td>\n",
       "      <td>Clear</td>\n",
       "      <td>Pass</td>\n",
       "      <td>5</td>\n",
       "      <td>QB</td>\n",
       "      <td>QB</td>\n",
       "    </tr>\n",
       "  </tbody>\n",
       "</table>\n",
       "</div>"
      ],
      "text/plain": [
       "   PlayerKey   GameID    PlayKey RosterPosition  PlayerDay  PlayerGame  \\\n",
       "0      26624  26624-1  26624-1-1    Quarterback          1           1   \n",
       "1      26624  26624-1  26624-1-2    Quarterback          1           1   \n",
       "2      26624  26624-1  26624-1-3    Quarterback          1           1   \n",
       "3      26624  26624-1  26624-1-4    Quarterback          1           1   \n",
       "4      26624  26624-1  26624-1-5    Quarterback          1           1   \n",
       "\n",
       "  StadiumType  FieldType  Temperature Weather PlayType  PlayerGamePlay  \\\n",
       "0     Outdoor  Synthetic           63   Clear     Pass               1   \n",
       "1     Outdoor  Synthetic           63   Clear     Pass               2   \n",
       "2     Outdoor  Synthetic           63   Clear     Rush               3   \n",
       "3     Outdoor  Synthetic           63   Clear     Rush               4   \n",
       "4     Outdoor  Synthetic           63   Clear     Pass               5   \n",
       "\n",
       "  Position PositionGroup  \n",
       "0       QB            QB  \n",
       "1       QB            QB  \n",
       "2       QB            QB  \n",
       "3       QB            QB  \n",
       "4       QB            QB  "
      ]
     },
     "execution_count": 17,
     "metadata": {},
     "output_type": "execute_result"
    }
   ],
   "source": [
    "plays_dataframe.head()"
   ]
  },
  {
   "cell_type": "markdown",
   "metadata": {},
   "source": [
    "We need only information about positions and GamePlay, including PlayerKey to measure amount of players."
   ]
  },
  {
   "cell_type": "code",
   "execution_count": 328,
   "metadata": {},
   "outputs": [],
   "source": [
    "player_info = plays_dataframe.loc[:, ['PlayerKey', 'PlayKey', 'RosterPosition', 'Position', 'PositionGroup', 'PlayerGamePlay']]"
   ]
  },
  {
   "cell_type": "code",
   "execution_count": 329,
   "metadata": {},
   "outputs": [
    {
     "data": {
      "text/html": [
       "<div>\n",
       "<style scoped>\n",
       "    .dataframe tbody tr th:only-of-type {\n",
       "        vertical-align: middle;\n",
       "    }\n",
       "\n",
       "    .dataframe tbody tr th {\n",
       "        vertical-align: top;\n",
       "    }\n",
       "\n",
       "    .dataframe thead th {\n",
       "        text-align: right;\n",
       "    }\n",
       "</style>\n",
       "<table border=\"1\" class=\"dataframe\">\n",
       "  <thead>\n",
       "    <tr style=\"text-align: right;\">\n",
       "      <th></th>\n",
       "      <th>PlayerKey</th>\n",
       "      <th>PlayKey</th>\n",
       "      <th>RosterPosition</th>\n",
       "      <th>Position</th>\n",
       "      <th>PositionGroup</th>\n",
       "      <th>PlayerGamePlay</th>\n",
       "    </tr>\n",
       "  </thead>\n",
       "  <tbody>\n",
       "    <tr>\n",
       "      <td>0</td>\n",
       "      <td>26624</td>\n",
       "      <td>26624-1-1</td>\n",
       "      <td>Quarterback</td>\n",
       "      <td>QB</td>\n",
       "      <td>QB</td>\n",
       "      <td>1</td>\n",
       "    </tr>\n",
       "    <tr>\n",
       "      <td>1</td>\n",
       "      <td>26624</td>\n",
       "      <td>26624-1-2</td>\n",
       "      <td>Quarterback</td>\n",
       "      <td>QB</td>\n",
       "      <td>QB</td>\n",
       "      <td>2</td>\n",
       "    </tr>\n",
       "    <tr>\n",
       "      <td>2</td>\n",
       "      <td>26624</td>\n",
       "      <td>26624-1-3</td>\n",
       "      <td>Quarterback</td>\n",
       "      <td>QB</td>\n",
       "      <td>QB</td>\n",
       "      <td>3</td>\n",
       "    </tr>\n",
       "    <tr>\n",
       "      <td>3</td>\n",
       "      <td>26624</td>\n",
       "      <td>26624-1-4</td>\n",
       "      <td>Quarterback</td>\n",
       "      <td>QB</td>\n",
       "      <td>QB</td>\n",
       "      <td>4</td>\n",
       "    </tr>\n",
       "    <tr>\n",
       "      <td>4</td>\n",
       "      <td>26624</td>\n",
       "      <td>26624-1-5</td>\n",
       "      <td>Quarterback</td>\n",
       "      <td>QB</td>\n",
       "      <td>QB</td>\n",
       "      <td>5</td>\n",
       "    </tr>\n",
       "  </tbody>\n",
       "</table>\n",
       "</div>"
      ],
      "text/plain": [
       "   PlayerKey    PlayKey RosterPosition Position PositionGroup  PlayerGamePlay\n",
       "0      26624  26624-1-1    Quarterback       QB            QB               1\n",
       "1      26624  26624-1-2    Quarterback       QB            QB               2\n",
       "2      26624  26624-1-3    Quarterback       QB            QB               3\n",
       "3      26624  26624-1-4    Quarterback       QB            QB               4\n",
       "4      26624  26624-1-5    Quarterback       QB            QB               5"
      ]
     },
     "execution_count": 329,
     "metadata": {},
     "output_type": "execute_result"
    }
   ],
   "source": [
    "player_info.head()"
   ]
  },
  {
   "cell_type": "code",
   "execution_count": 20,
   "metadata": {},
   "outputs": [
    {
     "data": {
      "text/plain": [
       "array(['QB', 'Missing Data', 'WR', 'ILB', 'RB', 'DE', 'TE', 'FS', 'CB',\n",
       "       'G', 'T', 'OLB', 'DT', 'SS', 'MLB', 'C', 'NT', 'DB', 'K', 'LB',\n",
       "       'S', 'HB', 'P'], dtype=object)"
      ]
     },
     "execution_count": 20,
     "metadata": {},
     "output_type": "execute_result"
    }
   ],
   "source": [
    "player_info.RosterPosition.unique()\n",
    "player_info.PositionGroup.unique()\n",
    "player_info.PlayerGamePlay.unique()\n",
    "player_info.Position.unique()"
   ]
  },
  {
   "cell_type": "markdown",
   "metadata": {},
   "source": [
    "Unique values show us, that we may not bother ourselfs with cleaning the data - all the data can be displayed just OK.Although it will be convenient to through the 'Missing data' rows,because they are low in quantity"
   ]
  },
  {
   "cell_type": "code",
   "execution_count": 330,
   "metadata": {},
   "outputs": [],
   "source": [
    "player_info = player_info[player_info.Position != 'Missing Data']"
   ]
  },
  {
   "cell_type": "code",
   "execution_count": 55,
   "metadata": {},
   "outputs": [
    {
     "data": {
      "text/plain": [
       "Text(0.5, 0.98, 'Information about players')"
      ]
     },
     "execution_count": 55,
     "metadata": {},
     "output_type": "execute_result"
    },
    {
     "data": {
      "image/png": "[encoded data removed]",
      "text/plain": [
       "<Figure size 864x864 with 5 Axes>"
      ]
     },
     "metadata": {},
     "output_type": "display_data"
    }
   ],
   "source": [
    "plt.style.use('Solarize_Light2')\n",
    "figure = plt.figure(figsize=(12,12))\n",
    "grid = plt.GridSpec(nrows=3, ncols=2, hspace=0.5, wspace=0.3)\n",
    "\n",
    "position_fig = figure.add_subplot(grid[0, :])\n",
    "rosterP_fig = figure.add_subplot(grid[1, 0])\n",
    "\n",
    "position_fig.bar(player_info.Position.value_counts().keys(), player_info.Position.value_counts().values)\n",
    "position_fig.set_title('Position', color='black')\n",
    "\n",
    "rosterP_fig.bar(player_info.RosterPosition.value_counts().keys(), player_info.RosterPosition.value_counts().values)\n",
    "plt.rc('xtick', labelsize=8) \n",
    "# set_xticklabels allows us to work with labels of x-axis, we implicitly write down the rotation degree.\n",
    "rosterP_fig.set_xticklabels(player_info.RosterPosition.value_counts().keys(), rotation=30)\n",
    "rosterP_fig.set_title('RosterPosition', color='black')\n",
    "\n",
    "groupP_fig = figure.add_subplot(grid[1, 1])\n",
    "groupP_fig.bar(player_info.PositionGroup.value_counts().keys(), player_info.PositionGroup.value_counts().values)\n",
    "groupP_fig.set_title('PositionGroup', color='black')\n",
    "\n",
    "\n",
    "playerK_fig = figure.add_subplot(grid[2, 0])\n",
    "# groupby groups our dataframe by the values of PlayerKeys, count() counts non-NA values of RosterPostition,\n",
    "# taking only values without PlayerKey\n",
    "playerK_fig.hist(player_info.groupby(by=['PlayerKey']).count()['RosterPosition'].values, \n",
    "                bins=20, color='gray')\n",
    "playerK_fig.set_title('Number of the plays per player', color='black')  # x shows amount of players that played y games\n",
    "\n",
    "# Now let's count maximum plays for x players\n",
    "maxRollPlays_fig = figure.add_subplot(grid[2, 1])\n",
    "maxRollPlays_fig.hist(player_info.groupby(by=['PlayerKey']).PlayerGamePlay.max().values,\n",
    "                bins=20, color='gray')\n",
    "maxRollPlays_fig.set_title('Maximum number of roller plays per player', color='black')\n",
    "\n",
    "figure.suptitle('Information about players', fontsize=20, color='brown')"
   ]
  },
  {
   "cell_type": "markdown",
   "metadata": {},
   "source": [
    "*Infromation varies greatly* => all of that can lead to the injury.That's why we must analize everything."
   ]
  },
  {
   "cell_type": "markdown",
   "metadata": {},
   "source": [
    "**Visualizting play type**"
   ]
  },
  {
   "cell_type": "code",
   "execution_count": 57,
   "metadata": {},
   "outputs": [
    {
     "data": {
      "text/html": [
       "<div>\n",
       "<style scoped>\n",
       "    .dataframe tbody tr th:only-of-type {\n",
       "        vertical-align: middle;\n",
       "    }\n",
       "\n",
       "    .dataframe tbody tr th {\n",
       "        vertical-align: top;\n",
       "    }\n",
       "\n",
       "    .dataframe thead th {\n",
       "        text-align: right;\n",
       "    }\n",
       "</style>\n",
       "<table border=\"1\" class=\"dataframe\">\n",
       "  <thead>\n",
       "    <tr style=\"text-align: right;\">\n",
       "      <th></th>\n",
       "      <th>PlayType</th>\n",
       "    </tr>\n",
       "  </thead>\n",
       "  <tbody>\n",
       "    <tr>\n",
       "      <td>0</td>\n",
       "      <td>Pass</td>\n",
       "    </tr>\n",
       "    <tr>\n",
       "      <td>1</td>\n",
       "      <td>Pass</td>\n",
       "    </tr>\n",
       "    <tr>\n",
       "      <td>2</td>\n",
       "      <td>Rush</td>\n",
       "    </tr>\n",
       "    <tr>\n",
       "      <td>3</td>\n",
       "      <td>Rush</td>\n",
       "    </tr>\n",
       "    <tr>\n",
       "      <td>4</td>\n",
       "      <td>Pass</td>\n",
       "    </tr>\n",
       "  </tbody>\n",
       "</table>\n",
       "</div>"
      ],
      "text/plain": [
       "  PlayType\n",
       "0     Pass\n",
       "1     Pass\n",
       "2     Rush\n",
       "3     Rush\n",
       "4     Pass"
      ]
     },
     "execution_count": 57,
     "metadata": {},
     "output_type": "execute_result"
    }
   ],
   "source": [
    "play_type = plays_dataframe.loc[:, ['PlayType']]\n",
    "play_type.head()"
   ]
  },
  {
   "cell_type": "code",
   "execution_count": 71,
   "metadata": {},
   "outputs": [
    {
     "data": {
      "text/plain": [
       "Text(0.5, 1.0, 'PlayType')"
      ]
     },
     "execution_count": 71,
     "metadata": {},
     "output_type": "execute_result"
    },
    {
     "data": {
      "image/png": "[encoded data removed]",
      "text/plain": [
       "<Figure size 1080x288 with 1 Axes>"
      ]
     },
     "metadata": {},
     "output_type": "display_data"
    }
   ],
   "source": [
    "plt.style.use('bmh')\n",
    "figure = plt.figure(figsize=(15, 4))\n",
    "plt.bar(play_type.PlayType.value_counts().keys(), play_type.PlayType.value_counts().values, color='#FEFDFF')\n",
    "plt.xticks(play_type.PlayType.value_counts().keys(), rotation=20, color='brown')\n",
    "plt.title('PlayType', fontsize=22, color='#B02E0C')"
   ]
  },
  {
   "cell_type": "markdown",
   "metadata": {},
   "source": [
    "Info shows us that,perhaps, most injuries occur during Push and Pass"
   ]
  },
  {
   "cell_type": "markdown",
   "metadata": {},
   "source": [
    "## Analyze the track of the players"
   ]
  },
  {
   "cell_type": "code",
   "execution_count": 90,
   "metadata": {},
   "outputs": [
    {
     "data": {
      "text/html": [
       "<div>\n",
       "<style scoped>\n",
       "    .dataframe tbody tr th:only-of-type {\n",
       "        vertical-align: middle;\n",
       "    }\n",
       "\n",
       "    .dataframe tbody tr th {\n",
       "        vertical-align: top;\n",
       "    }\n",
       "\n",
       "    .dataframe thead th {\n",
       "        text-align: right;\n",
       "    }\n",
       "</style>\n",
       "<table border=\"1\" class=\"dataframe\">\n",
       "  <thead>\n",
       "    <tr style=\"text-align: right;\">\n",
       "      <th></th>\n",
       "      <th>PlayKey</th>\n",
       "      <th>time</th>\n",
       "      <th>event</th>\n",
       "      <th>x</th>\n",
       "      <th>y</th>\n",
       "      <th>dir</th>\n",
       "      <th>dis</th>\n",
       "      <th>o</th>\n",
       "      <th>s</th>\n",
       "    </tr>\n",
       "  </thead>\n",
       "  <tbody>\n",
       "    <tr>\n",
       "      <td>0</td>\n",
       "      <td>26624-1-1</td>\n",
       "      <td>0.0</td>\n",
       "      <td>huddle_start_offense</td>\n",
       "      <td>87.46</td>\n",
       "      <td>28.93</td>\n",
       "      <td>288.24</td>\n",
       "      <td>0.01</td>\n",
       "      <td>262.33</td>\n",
       "      <td>0.13</td>\n",
       "    </tr>\n",
       "    <tr>\n",
       "      <td>1</td>\n",
       "      <td>26624-1-1</td>\n",
       "      <td>0.1</td>\n",
       "      <td>NaN</td>\n",
       "      <td>87.45</td>\n",
       "      <td>28.92</td>\n",
       "      <td>283.91</td>\n",
       "      <td>0.01</td>\n",
       "      <td>261.69</td>\n",
       "      <td>0.12</td>\n",
       "    </tr>\n",
       "    <tr>\n",
       "      <td>2</td>\n",
       "      <td>26624-1-1</td>\n",
       "      <td>0.2</td>\n",
       "      <td>NaN</td>\n",
       "      <td>87.44</td>\n",
       "      <td>28.92</td>\n",
       "      <td>280.40</td>\n",
       "      <td>0.01</td>\n",
       "      <td>261.17</td>\n",
       "      <td>0.12</td>\n",
       "    </tr>\n",
       "    <tr>\n",
       "      <td>3</td>\n",
       "      <td>26624-1-1</td>\n",
       "      <td>0.3</td>\n",
       "      <td>NaN</td>\n",
       "      <td>87.44</td>\n",
       "      <td>28.92</td>\n",
       "      <td>278.79</td>\n",
       "      <td>0.01</td>\n",
       "      <td>260.66</td>\n",
       "      <td>0.10</td>\n",
       "    </tr>\n",
       "    <tr>\n",
       "      <td>4</td>\n",
       "      <td>26624-1-1</td>\n",
       "      <td>0.4</td>\n",
       "      <td>NaN</td>\n",
       "      <td>87.44</td>\n",
       "      <td>28.92</td>\n",
       "      <td>275.44</td>\n",
       "      <td>0.01</td>\n",
       "      <td>260.27</td>\n",
       "      <td>0.09</td>\n",
       "    </tr>\n",
       "  </tbody>\n",
       "</table>\n",
       "</div>"
      ],
      "text/plain": [
       "     PlayKey  time                 event      x      y     dir   dis       o  \\\n",
       "0  26624-1-1   0.0  huddle_start_offense  87.46  28.93  288.24  0.01  262.33   \n",
       "1  26624-1-1   0.1                   NaN  87.45  28.92  283.91  0.01  261.69   \n",
       "2  26624-1-1   0.2                   NaN  87.44  28.92  280.40  0.01  261.17   \n",
       "3  26624-1-1   0.3                   NaN  87.44  28.92  278.79  0.01  260.66   \n",
       "4  26624-1-1   0.4                   NaN  87.44  28.92  275.44  0.01  260.27   \n",
       "\n",
       "      s  \n",
       "0  0.13  \n",
       "1  0.12  \n",
       "2  0.12  \n",
       "3  0.10  \n",
       "4  0.09  "
      ]
     },
     "execution_count": 90,
     "metadata": {},
     "output_type": "execute_result"
    }
   ],
   "source": [
    "players_dataframe.head()"
   ]
  },
  {
   "cell_type": "code",
   "execution_count": 99,
   "metadata": {},
   "outputs": [
    {
     "ename": "NameError",
     "evalue": "name 'x' is not defined",
     "output_type": "error",
     "traceback": [
      "\u001b[1;31m---------------------------------------------------------------------------\u001b[0m",
      "\u001b[1;31mNameError\u001b[0m                                 Traceback (most recent call last)",
      "\u001b[1;32m<ipython-input-99-7f7263fdc0a2>\u001b[0m in \u001b[0;36m<module>\u001b[1;34m\u001b[0m\n\u001b[0;32m      3\u001b[0m \u001b[0mx_coord\u001b[0m \u001b[1;33m=\u001b[0m \u001b[0mcoordinates\u001b[0m\u001b[1;33m.\u001b[0m\u001b[0mx\u001b[0m\u001b[1;33m.\u001b[0m\u001b[0munique\u001b[0m\u001b[1;33m(\u001b[0m\u001b[1;33m)\u001b[0m\u001b[1;33m\u001b[0m\u001b[1;33m\u001b[0m\u001b[0m\n\u001b[0;32m      4\u001b[0m \u001b[0my_coord\u001b[0m \u001b[1;33m=\u001b[0m \u001b[0mcoordinates\u001b[0m\u001b[1;33m.\u001b[0m\u001b[0my\u001b[0m\u001b[1;33m.\u001b[0m\u001b[0munique\u001b[0m\u001b[1;33m(\u001b[0m\u001b[1;33m)\u001b[0m\u001b[1;33m\u001b[0m\u001b[1;33m\u001b[0m\u001b[0m\n\u001b[1;32m----> 5\u001b[1;33m \u001b[0mx\u001b[0m\u001b[1;33m\u001b[0m\u001b[1;33m\u001b[0m\u001b[0m\n\u001b[0m\u001b[0;32m      6\u001b[0m \u001b[1;31m# print('Maximum of x:{}'.format(coordinates.x.max()) + ' .Minimum:'.format(coordinates.x.min()))\u001b[0m\u001b[1;33m\u001b[0m\u001b[1;33m\u001b[0m\u001b[1;33m\u001b[0m\u001b[0m\n\u001b[0;32m      7\u001b[0m \u001b[1;31m# print('Maximum of y:{}'.format(coordinates.y.max()) + ' .Minimum:'.format(coordinates.y.min()))\u001b[0m\u001b[1;33m\u001b[0m\u001b[1;33m\u001b[0m\u001b[1;33m\u001b[0m\u001b[0m\n",
      "\u001b[1;31mNameError\u001b[0m: name 'x' is not defined"
     ]
    }
   ],
   "source": [
    "coordinates = players_dataframe.loc[:, ['x', 'y']]\n",
    "coordinates = coordinates.round()\n",
    "coordinates_grouped = \n",
    "\n",
    "# print('Maximum of x:{}'.format(coordinates.x.max()) + ' .Minimum:'.format(coordinates.x.min()))\n",
    "# print('Maximum of y:{}'.format(coordinates.y.max()) + ' .Minimum:'.format(coordinates.y.min()))"
   ]
  },
  {
   "cell_type": "code",
   "execution_count": 103,
   "metadata": {},
   "outputs": [],
   "source": [
    "x_coord = coordinates.x.unique()\n",
    "y_coord = coordinates.y.unique()\n",
    "x_coord.sort()\n",
    "y_coord.sort()"
   ]
  },
  {
   "cell_type": "code",
   "execution_count": 106,
   "metadata": {},
   "outputs": [
    {
     "ename": "AttributeError",
     "evalue": "'numpy.ndarray' object has no attribute 'head'",
     "output_type": "error",
     "traceback": [
      "\u001b[1;31m---------------------------------------------------------------------------\u001b[0m",
      "\u001b[1;31mAttributeError\u001b[0m                            Traceback (most recent call last)",
      "\u001b[1;32m<ipython-input-106-c3d22fc02808>\u001b[0m in \u001b[0;36m<module>\u001b[1;34m\u001b[0m\n\u001b[1;32m----> 1\u001b[1;33m \u001b[0my_coord\u001b[0m\u001b[1;33m.\u001b[0m\u001b[0mhead\u001b[0m\u001b[1;33m(\u001b[0m\u001b[1;33m)\u001b[0m\u001b[1;33m\u001b[0m\u001b[1;33m\u001b[0m\u001b[0m\n\u001b[0m",
      "\u001b[1;31mAttributeError\u001b[0m: 'numpy.ndarray' object has no attribute 'head'"
     ]
    }
   ],
   "source": []
  },
  {
   "cell_type": "code",
   "execution_count": null,
   "metadata": {},
   "outputs": [],
   "source": []
  },
  {
   "cell_type": "markdown",
   "metadata": {},
   "source": [
    "## Injuries report"
   ]
  },
  {
   "cell_type": "code",
   "execution_count": 136,
   "metadata": {},
   "outputs": [],
   "source": [
    "injuries_dataframe = pd.read_csv('InjuryRecord.csv')"
   ]
  },
  {
   "cell_type": "code",
   "execution_count": 137,
   "metadata": {},
   "outputs": [
    {
     "data": {
      "text/html": [
       "<div>\n",
       "<style scoped>\n",
       "    .dataframe tbody tr th:only-of-type {\n",
       "        vertical-align: middle;\n",
       "    }\n",
       "\n",
       "    .dataframe tbody tr th {\n",
       "        vertical-align: top;\n",
       "    }\n",
       "\n",
       "    .dataframe thead th {\n",
       "        text-align: right;\n",
       "    }\n",
       "</style>\n",
       "<table border=\"1\" class=\"dataframe\">\n",
       "  <thead>\n",
       "    <tr style=\"text-align: right;\">\n",
       "      <th></th>\n",
       "      <th>PlayerKey</th>\n",
       "      <th>GameID</th>\n",
       "      <th>PlayKey</th>\n",
       "      <th>BodyPart</th>\n",
       "      <th>Surface</th>\n",
       "      <th>DM_M1</th>\n",
       "      <th>DM_M7</th>\n",
       "      <th>DM_M28</th>\n",
       "      <th>DM_M42</th>\n",
       "    </tr>\n",
       "  </thead>\n",
       "  <tbody>\n",
       "    <tr>\n",
       "      <td>0</td>\n",
       "      <td>39873</td>\n",
       "      <td>39873-4</td>\n",
       "      <td>39873-4-32</td>\n",
       "      <td>Knee</td>\n",
       "      <td>Synthetic</td>\n",
       "      <td>1</td>\n",
       "      <td>1</td>\n",
       "      <td>1</td>\n",
       "      <td>1</td>\n",
       "    </tr>\n",
       "    <tr>\n",
       "      <td>1</td>\n",
       "      <td>46074</td>\n",
       "      <td>46074-7</td>\n",
       "      <td>46074-7-26</td>\n",
       "      <td>Knee</td>\n",
       "      <td>Natural</td>\n",
       "      <td>1</td>\n",
       "      <td>1</td>\n",
       "      <td>0</td>\n",
       "      <td>0</td>\n",
       "    </tr>\n",
       "    <tr>\n",
       "      <td>2</td>\n",
       "      <td>36557</td>\n",
       "      <td>36557-1</td>\n",
       "      <td>36557-1-70</td>\n",
       "      <td>Ankle</td>\n",
       "      <td>Synthetic</td>\n",
       "      <td>1</td>\n",
       "      <td>1</td>\n",
       "      <td>1</td>\n",
       "      <td>1</td>\n",
       "    </tr>\n",
       "    <tr>\n",
       "      <td>3</td>\n",
       "      <td>46646</td>\n",
       "      <td>46646-3</td>\n",
       "      <td>46646-3-30</td>\n",
       "      <td>Ankle</td>\n",
       "      <td>Natural</td>\n",
       "      <td>1</td>\n",
       "      <td>0</td>\n",
       "      <td>0</td>\n",
       "      <td>0</td>\n",
       "    </tr>\n",
       "    <tr>\n",
       "      <td>4</td>\n",
       "      <td>43532</td>\n",
       "      <td>43532-5</td>\n",
       "      <td>43532-5-69</td>\n",
       "      <td>Ankle</td>\n",
       "      <td>Synthetic</td>\n",
       "      <td>1</td>\n",
       "      <td>1</td>\n",
       "      <td>1</td>\n",
       "      <td>1</td>\n",
       "    </tr>\n",
       "  </tbody>\n",
       "</table>\n",
       "</div>"
      ],
      "text/plain": [
       "   PlayerKey   GameID     PlayKey BodyPart    Surface  DM_M1  DM_M7  DM_M28  \\\n",
       "0      39873  39873-4  39873-4-32     Knee  Synthetic      1      1       1   \n",
       "1      46074  46074-7  46074-7-26     Knee    Natural      1      1       0   \n",
       "2      36557  36557-1  36557-1-70    Ankle  Synthetic      1      1       1   \n",
       "3      46646  46646-3  46646-3-30    Ankle    Natural      1      0       0   \n",
       "4      43532  43532-5  43532-5-69    Ankle  Synthetic      1      1       1   \n",
       "\n",
       "   DM_M42  \n",
       "0       1  \n",
       "1       0  \n",
       "2       1  \n",
       "3       0  \n",
       "4       1  "
      ]
     },
     "execution_count": 137,
     "metadata": {},
     "output_type": "execute_result"
    }
   ],
   "source": [
    "injuries_dataframe.head()"
   ]
  },
  {
   "cell_type": "code",
   "execution_count": 138,
   "metadata": {},
   "outputs": [
    {
     "name": "stdout",
     "output_type": "stream",
     "text": [
      "At all there are 105 injuries\n",
      "Among them there are 100 injured PlayerKey\n",
      "There are 0 PlayerKey missing\n"
     ]
    }
   ],
   "source": [
    "print('At all there are {} injuries'.format(len(injuries_dataframe)))\n",
    "print('Among them there are {} injured PlayerKey'.format(len(injuries_dataframe.PlayerKey.unique())))\n",
    "# => 5 people are injured twice, or some people are injured more than 2 times.\n",
    "print('There are {} PlayerKey missing'.format(len(injuries_dataframe) - injuries_dataframe.PlayerKey.count()))"
   ]
  },
  {
   "cell_type": "code",
   "execution_count": 145,
   "metadata": {},
   "outputs": [
    {
     "data": {
      "text/plain": [
       "Text(0.5, 0.98, 'Injuries analysis')"
      ]
     },
     "execution_count": 145,
     "metadata": {},
     "output_type": "execute_result"
    },
    {
     "data": {
      "image/png": "[encoded data removed]",
      "text/plain": [
       "<Figure size 864x288 with 3 Axes>"
      ]
     },
     "metadata": {},
     "output_type": "display_data"
    }
   ],
   "source": [
    "plt.style.use('ggplot')\n",
    "fig, axes = plt.subplots(1, 3, figsize=(12, 4))\n",
    "# grid = plt.GridSpec(nrows=1, ncols=3, wspace=0.3)\n",
    "# surfaceInj = fig.add_subplot(grid=[0, 1])\n",
    "axes[0].bar(injuries_dataframe.Surface.value_counts().keys(), \n",
    "            injuries_dataframe.Surface.value_counts().values, color='orange')\n",
    "axes[0].set_title('Surfaces', color='black')\n",
    "\n",
    "axes[1].bar(injuries_dataframe.BodyPart.value_counts().keys(), \n",
    "            injuries_dataframe.BodyPart.value_counts().values, color='brown')\n",
    "axes[1].set_title('Body Parts', color='black')\n",
    "\n",
    "# Let's count the number for specifical DM's.For that we must clean data a little bit.\n",
    "# DM stands for days missed because of the injury.\n",
    "injuries_dataframe_cleaned = injuries_dataframe.copy()\n",
    "# Make a copy!!!!!! Otherwise when run a few times values will be negative and everything will be messed up\n",
    "injuries_dataframe_cleaned.DM_M1 = injuries_dataframe_cleaned.DM_M1 - injuries_dataframe_cleaned.DM_M7\n",
    "injuries_dataframe_cleaned.DM_M7 = injuries_dataframe_cleaned.DM_M7 - injuries_dataframe_cleaned.DM_M28\n",
    "injuries_dataframe_cleaned.DM_M28 = injuries_dataframe_cleaned.DM_M28 - injuries_dataframe_cleaned.DM_M42\n",
    "M1 = injuries_dataframe_cleaned.DM_M1.sum()\n",
    "M7 = injuries_dataframe_cleaned.DM_M7.sum()\n",
    "M28 = injuries_dataframe_cleaned.DM_M28.sum()\n",
    "M42 = injuries_dataframe_cleaned.DM_M42.sum()\n",
    "Ms = [M1, M7, M28, M42]\n",
    "M_titles = ['1-7 days', '7-28 days', '28-42 days', '>42 days']\n",
    "\n",
    "axes[2].bar(M_titles, Ms, color='black')\n",
    "injuries_dataframe.head()\n",
    "axes[2].set_title('Days missed due injury', color='black')\n",
    "\n",
    "plt.suptitle('Injuries analysis', color='gold', fontsize=16)"
   ]
  },
  {
   "cell_type": "markdown",
   "metadata": {},
   "source": [
    "We have almost equal amount of injuries on the different surfaces.The most frequent broken body parts are knees and ankles, but days missed vary greatly."
   ]
  },
  {
   "cell_type": "markdown",
   "metadata": {},
   "source": [
    "## Correlations between injuries."
   ]
  },
  {
   "cell_type": "markdown",
   "metadata": {},
   "source": [
    "Short turotial on most popular correlations: [Here](https://towardsdatascience.com/the-search-for-categorical-correlation-a1cf7f1888c9)"
   ]
  },
  {
   "cell_type": "code",
   "execution_count": null,
   "metadata": {},
   "outputs": [],
   "source": [
    "# drop_duplicate drops identical rows => the rows with at least 1 value unmatching.We have many duplicates of info\n",
    "# for unique games.\n",
    "game_data_cleaned = plays_dataframe.loc[:, ['GameID', 'StadiumType', 'FieldType', \n",
    "                                            'Weather', 'Temperature']].drop_duplicates().reset_index().drop(columns='index')"
   ]
  },
  {
   "cell_type": "markdown",
   "metadata": {},
   "source": [
    "Combine both cleaned game data and cleaned injuries.<br>\n",
    "`Join` combines tow dataframes according to the indexes, that's why we needed to drop duplicates: indexes must be unique otherwise how can we join the same in one DF to another?<br>\n",
    "We use `'outer'` - the thing that attaches what it could and then just fills everything else with NA, because otherwise we won't have Weather_Snow columns to seek correlations.Also we won't be able to build the most important thing - Injuries, that is our objective.It sound logical: if we take only 105 values(the size of injuries DF), than we have 100% chance of finding correlations when using `.corr()`.So we must take exmaples when we have no injuries or there is no point of exploring via heatmap!"
   ]
  },
  {
   "cell_type": "code",
   "execution_count": 205,
   "metadata": {},
   "outputs": [
    {
     "data": {
      "text/plain": [
       "Text(0.5, 1, 'Correlations between game moments and injuries')"
      ]
     },
     "execution_count": 205,
     "metadata": {},
     "output_type": "execute_result"
    },
    {
     "data": {
      "image/png": "[encoded data removed]",
      "text/plain": [
       "<Figure size 720x720 with 2 Axes>"
      ]
     },
     "metadata": {},
     "output_type": "display_data"
    }
   ],
   "source": [
    "game_inj_df = injuries_dataframe_cleaned.set_index('GameID').join(game_data_cleaned.set_index('GameID'), how='outer')\n",
    "# game_inj_df = injuries_dataframe_cleaned.set_index('GameID').join(game_data_cleaned.set_index('GameID'))\n",
    "\n",
    "\n",
    "# filling the NAN of injuries with zeros.Other doesn't matter to us: we will seek correlations between injuries and\n",
    "# game moments.\n",
    "game_inj_df['DM_M1'] = game_inj_df['DM_M1'].fillna(0).astype(int)\n",
    "game_inj_df['DM_M7'] = game_inj_df['DM_M7'].fillna(0).astype(int)\n",
    "game_inj_df['DM_M28'] = game_inj_df['DM_M28'].fillna(0).astype(int)\n",
    "game_inj_df['DM_M42'] = game_inj_df['DM_M42'].fillna(0).astype(int)\n",
    "\n",
    "game_inj_df.DM_M1 = game_inj_df.DM_M1 - game_inj_df.DM_M7\n",
    "game_inj_df.DM_M7 = game_inj_df.DM_M7 - game_inj_df.DM_M28\n",
    "game_inj_df.DM_M28 = game_inj_df.DM_M28 - game_inj_df.DM_M42\n",
    "\n",
    "\n",
    "# Injury to seek correlation beetween them.If there is an injury, than place 1, otherwise 0(although \n",
    "# when joining DF the default way we will have no non-1 values).\n",
    "game_inj_df['Injury'] = game_inj_df.loc[:, 'DM_M1'] + game_inj_df.loc[:, 'DM_M7'] + (game_inj_df.loc[:, 'DM_M28'] \n",
    "+ game_inj_df.loc[:, 'DM_M42'])\n",
    "\n",
    "\n",
    "# drop unneeded PlayerKey, PlayKey\n",
    "game_inj_df = game_inj_df.drop(columns=['PlayerKey', 'PlayKey'])\n",
    "\n",
    "# We should create dummies for all categorical values.We can use the fucntion on the whole DF.\n",
    "# Thanks to dropping first there will be no multicorrelation\n",
    "# Drop FieldType_nan dummies,because they are none.\n",
    "game_inj_df_with_dummies = pd.get_dummies(game_inj_df, drop_first=True, dummy_na=True).drop(columns='FieldType_nan')\n",
    "\n",
    "\n",
    "\n",
    "# look for the correlations using .corr()\n",
    "correlated_game = game_inj_df_with_dummies.loc[:, ['Temperature', 'StadiumType_Indoor', 'StadiumType_Outdoor', \n",
    "                                                   'StadiumType_Retractable Roof',\n",
    "                                 'FieldType_Synthetic', 'Weather_Cloudy', 'Weather_Rain', 'Weather_Snow', 'Injury']].corr()\n",
    "\n",
    "fig = plt.figure(figsize=(10,10))\n",
    "# choose_diverging_palette works only in IPython notebooks: interactive choice of colors.Otherwise we can just indicate\n",
    "# which color we need\n",
    "sns.heatmap(correlated_game, annot=True)\n",
    "plt.title('Correlations between game moments and injuries', color='black')"
   ]
  },
  {
   "cell_type": "markdown",
   "metadata": {},
   "source": [
    "As I understand, Cramer's V calculates with just categorical values given using procentage of mentioning.So, we shouldn't convert our variables into dummy ones.Also, istead of `[-1; 1]` range like in the original, it's `[0; 1]` range(the opposite way: 0 is most probably slim chance for values to be completely unassociated).More information for future(also the possibility of reading it again is slim) me: [Cramer's V](https://www.spss-tutorials.com/cramers-v-what-and-why/)"
   ]
  },
  {
   "cell_type": "code",
   "execution_count": 223,
   "metadata": {},
   "outputs": [
    {
     "data": {
      "image/png": "[encoded data removed]",
      "text/plain": [
       "<Figure size 504x432 with 2 Axes>"
      ]
     },
     "metadata": {},
     "output_type": "display_data"
    }
   ],
   "source": [
    "# Source:\n",
    "# https://stackoverflow.com/questions/46498455/categorical-features-correlation/46498792#46498792\n",
    "def cramers_v(confusion_matrix):\n",
    "    \"\"\" calculate Cramers V statistic for categorial-categorial association.\n",
    "        uses correction from Bergsma and Wicher,\n",
    "        Journal of the Korean Statistical Society 42 (2013): 323-328\n",
    "    \"\"\"\n",
    "    chi2 = ss.chi2_contingency(confusion_matrix)[0]\n",
    "    n = confusion_matrix.sum()\n",
    "    phi2 = chi2 / n\n",
    "    r, k = confusion_matrix.shape\n",
    "    phi2corr = max(0, phi2 - ((k-1)*(r-1))/(n-1))\n",
    "    rcorr = r - ((r-1)**2)/(n-1)\n",
    "    kcorr = k - ((k-1)**2)/(n-1)\n",
    "    return np.sqrt(phi2corr / min((kcorr-1), (rcorr-1)))\n",
    "\n",
    "\n",
    "# Source:\n",
    "# https://stackoverflow.com/questions/51859894/how-to-plot-a-cramer-s-v-heatmap-for-categorical-features\n",
    "def plot_cramers_v_heatmap(df, cols):\n",
    "    corrM = np.zeros((len(cols),len(cols)))\n",
    "\n",
    "    for col1, col2 in itertools.combinations(cols, 2):\n",
    "        idx1, idx2 = cols.index(col1), cols.index(col2)\n",
    "        corrM[idx1, idx2] = cramers_v(pd.crosstab(df[col1], df[col2]).values)\n",
    "        corrM[idx2, idx1] = corrM[idx1, idx2]\n",
    "\n",
    "    corr = pd.DataFrame(corrM, index=cols, columns=cols)\n",
    "    fig, ax = plt.subplots(figsize=(7, 6))\n",
    "    ax = sns.heatmap(corr, annot=True, cmap=sns.diverging_palette(220, 20, as_cmap=True), ax=ax); \n",
    "    ax.set_title(\"Cramer V Correlation between Variables\");\n",
    "\n",
    "\n",
    "# columns = ['Weather', 'Temperature', 'StadiumType', 'FieldType', 'Weather', 'Injury']\n",
    "# columns = [\"StadiumType\", \"FieldType\", \"Weather\", \"Temperature\", \"Injury\"]\n",
    "columns = ['StadiumType', 'Temperature', 'FieldType', 'Weather', 'Injury']\n",
    "plot_cramers_v_heatmap(game_inj_df, columns)"
   ]
  },
  {
   "cell_type": "markdown",
   "metadata": {},
   "source": [
    "So, we can see that: <br>\n",
    "<ul>\n",
    "  <li>FieldType and StudiumType are highly correlated</li>\n",
    "  <li>Tempreture and Weather are highlt correlated(obviously)</li>\n",
    "    <li> <strong>Tempreture and StudiumType(and also a FieldType) are correlated!</strong></li>\n",
    "</ul>\n",
    "Although there are none correlations between Injury and everything else :с"
   ]
  },
  {
   "cell_type": "markdown",
   "metadata": {},
   "source": [
    "Let's see Theil's U correlation.<br>\n",
    "in human language, given the value of x, how many possible states does y have, and how often do they occur. Just like Cramer’s V, the output value is on the range of `[0,1]`, with the same interpretations as before — but unlike Cramer’s V, it is asymmetric, meaning U(x,y)≠U(y,x) (while V(x,y)=V(y,x), where V is Cramer’s V). Using Theil’s U in the simple case above will let us find out that knowing y means we know x, but not vice-versa.<br>\n",
    "P.S.-symmetric value means that mean roughlt equals median.[More](https://www.siyavula.com/read/maths/grade-11/statistics/11-statistics-05)<br>\n",
    "[MOOOAAAR of symmetric data](https://stats.stackexchange.com/questions/145159/how-to-tell-if-my-data-distribution-is-symmetric)<br>\n",
    "[definition of quartiles](https://en.wikipedia.org/wiki/Quartile).Mean is (summ of all number)/(amount of number) and median is the middle of sorted array(or,if arrays isn't odd than the summ of 2 middle elemnts / 2).Basiaclly, to find a median we must sort the array.<br>"
   ]
  },
  {
   "cell_type": "markdown",
   "metadata": {},
   "source": [
    "In other words, Theil's U method of finding correlations saves us from symmetry of the data type, which is used Cramer's V.More about symmetric and skewed data: [here](https://www.dummies.com/education/math/statistics/how-to-identify-skew-and-symmetry-in-a-statistical-histogram/) . It's more safe to use, otherwise we may see the loss of the information."
   ]
  },
  {
   "cell_type": "code",
   "execution_count": 224,
   "metadata": {},
   "outputs": [],
   "source": [
    "# https://github.com/shakedzy/dython/blob/master/dython/nominal.py\n",
    "\n",
    "from collections import Counter\n",
    "import math\n",
    "\n",
    "def conditional_entropy(x, y, nan_strategy='replace', nan_replace_value=0):\n",
    "    \"\"\"\n",
    "    Calculates the conditional entropy of x given y: S(x|y)\n",
    "    Wikipedia: https://en.wikipedia.org/wiki/Conditional_entropy\n",
    "    **Returns:** float\n",
    "    Parameters\n",
    "    ----------\n",
    "    x : list / NumPy ndarray / Pandas Series\n",
    "        A sequence of measurements\n",
    "    y : list / NumPy ndarray / Pandas Series\n",
    "        A sequence of measurements\n",
    "    nan_strategy : string, default = 'replace'\n",
    "        How to handle missing values: can be either 'drop' to remove samples with missing values, or 'replace'\n",
    "        to replace all missing values with the nan_replace_value. Missing values are None and np.nan.\n",
    "    nan_replace_value : any, default = 0.0\n",
    "        The value used to replace missing values with. Only applicable when nan_strategy is set to 'replace'.\n",
    "    \"\"\"\n",
    "    y_counter = Counter(y)\n",
    "    xy_counter = Counter(list(zip(x,y)))\n",
    "    total_occurrences = sum(y_counter.values())\n",
    "    entropy = 0.0\n",
    "    for xy in xy_counter.keys():\n",
    "        p_xy = xy_counter[xy] / total_occurrences\n",
    "        p_y = y_counter[xy[1]] / total_occurrences\n",
    "        entropy += p_xy * math.log(p_y/p_xy)\n",
    "    return entropy\n",
    "\n",
    "def theils_u(x, y):\n",
    "    s_xy = conditional_entropy(x,y)\n",
    "    x_counter = Counter(x)\n",
    "    total_occurrences = sum(x_counter.values())\n",
    "    p_x = list(map(lambda n: n/total_occurrences, x_counter.values()))\n",
    "    s_x = ss.entropy(p_x)\n",
    "    if s_x == 0:\n",
    "        return 1\n",
    "    else:\n",
    "        return (s_x - s_xy) / s_x"
   ]
  },
  {
   "cell_type": "code",
   "execution_count": 225,
   "metadata": {},
   "outputs": [
    {
     "data": {
      "image/png": "[encoded data removed]",
      "text/plain": [
       "<Figure size 504x432 with 2 Axes>"
      ]
     },
     "metadata": {},
     "output_type": "display_data"
    }
   ],
   "source": [
    "def plot_theils_u_heatmap(df, cols):\n",
    "    corrM = np.zeros((len(cols),len(cols)))\n",
    "\n",
    "    for col1, col2 in itertools.combinations(cols, 2):\n",
    "        idx1, idx2 = cols.index(col1), cols.index(col2)\n",
    "        corrM[idx1, idx2] = theils_u(df[col1].values, df[col2].values)\n",
    "        corrM[idx2, idx1] = corrM[idx1, idx2]\n",
    "\n",
    "    corr = pd.DataFrame(corrM, index=cols, columns=cols)\n",
    "    fig, ax = plt.subplots(figsize=(7, 6))\n",
    "    ax = sns.heatmap(corr, annot=True, cmap=sns.diverging_palette(220, 20, as_cmap=True), ax=ax);\n",
    "    ax.set_title(\"Theil's U Correlation between Variables\");\n",
    "\n",
    "columns = ['StadiumType', 'Temperature', 'FieldType', 'Weather', 'Injury']\n",
    "plot_theils_u_heatmap(game_inj_df, columns)"
   ]
  },
  {
   "cell_type": "markdown",
   "metadata": {},
   "source": [
    "Again, we can't say anything about the injuries"
   ]
  },
  {
   "cell_type": "markdown",
   "metadata": {},
   "source": [
    "Let's explore the correlations between the injuries and the tempreture using box plot.<br>\n",
    "More about how it works in this [article](https://towardsdatascience.com/understanding-boxplots-5e2df7bcbd51)"
   ]
  },
  {
   "cell_type": "code",
   "execution_count": 253,
   "metadata": {},
   "outputs": [],
   "source": [
    "# get the tempreture for non-injury and injury dataset\n",
    "# & allows us to make multiply conditions.We must select outdoors StadiumType value, because only then tempretuer\n",
    "# really matters.When aquired the needed info, get the tempreture columns\n",
    "inj_temp = game_inj_df[(game_inj_df.StadiumType == 'Outdoor') & (game_inj_df.Injury == 1)].Temperature.values\n",
    "non_inj_temp = game_inj_df[(game_inj_df.StadiumType == 'Outdoor') & (game_inj_df.Injury == 0)].Temperature.values\n"
   ]
  },
  {
   "cell_type": "code",
   "execution_count": 257,
   "metadata": {},
   "outputs": [
    {
     "data": {
      "image/png": "[encoded data removed]",
      "text/plain": [
       "<Figure size 720x720 with 1 Axes>"
      ]
     },
     "metadata": {},
     "output_type": "display_data"
    }
   ],
   "source": [
    "figure = plt.figure(figsize=(10,10))\n",
    "# vet=False makes boxes horizontal\n",
    "plt.boxplot([inj_temp, non_inj_temp], vert=False)\n",
    "# Label sets the label for the whole axis, but ticks sets the labels to the respective values(this time 1 and 2 - injury\n",
    "# and non-injury values)\n",
    "plt.xlabel('Tempreture')\n",
    "plt.title('Comparing tempreture and injuries', color='black')\n",
    "plt.xlim(0, 100)\n",
    "plt.yticks([1,2], ['Injury', 'No injury'])\n",
    "plt.show()"
   ]
  },
  {
   "cell_type": "markdown",
   "metadata": {},
   "source": [
    "Tempreture distribution.This plot shows the probability of occuring x degrees of Celcius.In another words, it shows the probability density for some for some value. KDE is an abbreviation of **Kernel Density Estimate**.It's more smooth than histogram(histogram is not the same as bar chart!First is used for continuos numerical data and the second for number of instances in categories(caregorical data that uses discrete numbers to count the instances).Here are [Data difference](http://scaryscientist.blogspot.com/2015/02/classification-of-data-types.html)(and more about [difference of continuos and discrete data](https://keydifferences.com/difference-between-discrete-and-continuous-data.html)) and  [Difference beetween graphs](https://keydifferences.com/difference-between-histogram-and-bar-graph.html)) because of using kernel smoothing, that allows us to ignore the noise and see the shape of the data: which point of value is most often often occured(because the histogram is dependent on bins for data distribution).<br>\n",
    "[Reference](https://datavizcatalogue.com/methods/density_plot.html)"
   ]
  },
  {
   "cell_type": "code",
   "execution_count": 265,
   "metadata": {},
   "outputs": [
    {
     "data": {
      "text/plain": [
       "Text(0, 0.5, 'Disribution')"
      ]
     },
     "execution_count": 265,
     "metadata": {},
     "output_type": "execute_result"
    },
    {
     "data": {
      "image/png": "[encoded data removed]",
      "text/plain": [
       "<Figure size 576x576 with 1 Axes>"
      ]
     },
     "metadata": {},
     "output_type": "display_data"
    }
   ],
   "source": [
    "fig, ax = plt.subplots(1, 1, figsize=(8,8))\n",
    "sns.kdeplot(non_inj_temp, label='No Injury', color='yellow')\n",
    "sns.kdeplot(inj_temp, label='Injury', color='red')\n",
    "plt.title('Distribution of temperature', color='black')\n",
    "plt.xlabel('Temperature')\n",
    "plt.ylabel('Disribution')"
   ]
  },
  {
   "cell_type": "markdown",
   "metadata": {},
   "source": [
    "Do temperature sets come from one data or is it entirely different(aka the data of temperature of injured was pulled from compeletely different country or different criteria and ect.).We use Kolmogorov-Smirnov test to check this out.It's null-hypothesis assumes that they are from the same distribution.If p-value is lower than 0.05 than we must reject the null-hypothesis => they are not from the same distribution.[more about p-value](https://www.youtube.com/watch?v=eyknGvncKLw)\n",
    "and [about this test](https://stats.stackexchange.com/questions/83163/statistical-test-to-tell-whether-two-samples-are-pulled-from-the-same-population)"
   ]
  },
  {
   "cell_type": "code",
   "execution_count": 268,
   "metadata": {},
   "outputs": [
    {
     "data": {
      "text/plain": [
       "(0.1803782838535909, 0.7292760464192929)"
      ]
     },
     "execution_count": 268,
     "metadata": {},
     "output_type": "execute_result"
    }
   ],
   "source": [
    "D, pvalue = ss.ks_2samp(non_inj_temp, inj_temp)\n",
    "D, pvalue"
   ]
  },
  {
   "cell_type": "markdown",
   "metadata": {},
   "source": [
    "Pvalue is huge => the null-hypothethis is true => the assumption that they are from the same batch is true."
   ]
  },
  {
   "cell_type": "markdown",
   "metadata": {},
   "source": [
    "## Making assumption"
   ]
  },
  {
   "cell_type": "markdown",
   "metadata": {},
   "source": [
    "Let's see if the type of field can influence the result(injury)."
   ]
  },
  {
   "cell_type": "code",
   "execution_count": 299,
   "metadata": {},
   "outputs": [
    {
     "data": {
      "text/plain": [
       "FieldType\n",
       "Natural      0.003926\n",
       "Synthetic    0.006661\n",
       "Name: Injury, dtype: float64"
      ]
     },
     "execution_count": 299,
     "metadata": {},
     "output_type": "execute_result"
    }
   ],
   "source": [
    "probability_of_inj = game_inj_df.loc[:, ['FieldType', 'Injury']].groupby('FieldType').mean()['Injury'] # shows the mean \n",
    "# of injury per TypeField\n",
    "probability_of_inj"
   ]
  },
  {
   "cell_type": "markdown",
   "metadata": {},
   "source": [
    "Our null-hypothesis will be that the injuries on natural turf are less or equal to that on sythetic."
   ]
  },
  {
   "cell_type": "code",
   "execution_count": 288,
   "metadata": {},
   "outputs": [],
   "source": [
    "number_of_each_field = game_inj_df.loc[:, ['FieldType', 'Injury']].groupby('FieldType').size()\n",
    "number_of_synt = number_of_each_field[1]\n",
    "number_of_natural = number_of_each_field[0]\n",
    "null_hyp =  game_inj_df.loc[:, ['FieldType', 'Injury']][game_inj_df.FieldType == 'Natural'].mean()[0]"
   ]
  },
  {
   "cell_type": "markdown",
   "metadata": {},
   "source": [
    "Computing standard error(not the same as standard deviation!Deviation tells the how much data is spread out, but error tells us how much the mean of the means is spread out(i.e. standard deviation on all samples).[Good video](https://www.youtube.com/watch?v=A82brFpdr9g)<br>\n",
    "z-score tells us how much(from -3 to 3) our sample(this time our probability of injury in opposite, synthetic, turf) standard errors above or below the mean(the error itself).More:[here](https://www.statisticshowto.datasciencecentral.com/probability-and-statistics/z-score/)<br>\n",
    "Finally, pvalue can be found the following way: what is the probability, that x falls in the range of z-score(how much the score deviates from the norm)?For pvalue we must find the opposite probability => 1 - probability of z-score.To find this probability we must compute the countinuos random value(the prob. that number falls in the interval of bell curve-density plot-computed by the hypothesis that area under curve equals to 1 and taking the difference between end and start point).Also, it's a normal distribution(reflection correspondingly to the mean: the graphs by 2 sides of the mean are the same).So, we must find nomral random continuos distribution(the hell long is that).More info in [this wonderful site](https://saylordotorg.github.io/text_introductory-statistics/s09-01-continuous-random-variables.html)<br>\n",
    "Finally, we use CDF(cumulative distribution function) to sum up all the probabilities.[info](https://www.statisticshowto.datasciencecentral.com/cumulative-distribution-function/) "
   ]
  },
  {
   "cell_type": "code",
   "execution_count": 304,
   "metadata": {},
   "outputs": [
    {
     "name": "stdout",
     "output_type": "stream",
     "text": [
      "z-score equals to 3.3053797981973556\n",
      "So, pvalue is 0.0004742388892970961\n"
     ]
    }
   ],
   "source": [
    "# SE(standard error) = SD(standard deviation) / sqrt(amount of samples)\n",
    "# for SD we must count probability for both injury on natural field and non-injury everywhere or injury on synthetic turf(\n",
    "# opposite effect)\n",
    "st_e = np.sqrt(null_hyp * (1 - null_hyp)/(number_of_synt + number_of_natural))\n",
    "\n",
    "# z-score:\n",
    "zs = (probability_of_inj[1] - probability_of_inj[0]) / st_e\n",
    "\n",
    "print('z-score equals to {}'.format(zs))\n",
    "print('So, pvalue is {}'.format(1 - ss.norm.cdf(zs)))"
   ]
  },
  {
   "cell_type": "markdown",
   "metadata": {},
   "source": [
    "P-value is lesser than 0.05 => we reject the null-hypothesis, that tells us that injury on natural turf is less or equal than that on the synthetic => more injuries on the syntetic turf."
   ]
  },
  {
   "cell_type": "code",
   "execution_count": 340,
   "metadata": {},
   "outputs": [
    {
     "data": {
      "text/html": [
       "<div>\n",
       "<style scoped>\n",
       "    .dataframe tbody tr th:only-of-type {\n",
       "        vertical-align: middle;\n",
       "    }\n",
       "\n",
       "    .dataframe tbody tr th {\n",
       "        vertical-align: top;\n",
       "    }\n",
       "\n",
       "    .dataframe thead th {\n",
       "        text-align: right;\n",
       "    }\n",
       "</style>\n",
       "<table border=\"1\" class=\"dataframe\">\n",
       "  <thead>\n",
       "    <tr style=\"text-align: right;\">\n",
       "      <th></th>\n",
       "      <th>PlayerKey_left</th>\n",
       "      <th>GameID</th>\n",
       "      <th>BodyPart</th>\n",
       "      <th>DM_M1</th>\n",
       "      <th>DM_M7</th>\n",
       "      <th>DM_M28</th>\n",
       "      <th>DM_M42</th>\n",
       "      <th>PlayerKey_right</th>\n",
       "      <th>RosterPosition</th>\n",
       "      <th>Position</th>\n",
       "      <th>PositionGroup</th>\n",
       "      <th>PlayerGamePlay</th>\n",
       "      <th>Injury</th>\n",
       "    </tr>\n",
       "    <tr>\n",
       "      <th>PlayKey</th>\n",
       "      <th></th>\n",
       "      <th></th>\n",
       "      <th></th>\n",
       "      <th></th>\n",
       "      <th></th>\n",
       "      <th></th>\n",
       "      <th></th>\n",
       "      <th></th>\n",
       "      <th></th>\n",
       "      <th></th>\n",
       "      <th></th>\n",
       "      <th></th>\n",
       "      <th></th>\n",
       "    </tr>\n",
       "  </thead>\n",
       "  <tbody>\n",
       "    <tr>\n",
       "      <td>26624-1-1</td>\n",
       "      <td>NaN</td>\n",
       "      <td>NaN</td>\n",
       "      <td>NaN</td>\n",
       "      <td>0</td>\n",
       "      <td>0</td>\n",
       "      <td>0</td>\n",
       "      <td>0</td>\n",
       "      <td>26624</td>\n",
       "      <td>Quarterback</td>\n",
       "      <td>QB</td>\n",
       "      <td>QB</td>\n",
       "      <td>1</td>\n",
       "      <td>0</td>\n",
       "    </tr>\n",
       "    <tr>\n",
       "      <td>26624-1-10</td>\n",
       "      <td>NaN</td>\n",
       "      <td>NaN</td>\n",
       "      <td>NaN</td>\n",
       "      <td>0</td>\n",
       "      <td>0</td>\n",
       "      <td>0</td>\n",
       "      <td>0</td>\n",
       "      <td>26624</td>\n",
       "      <td>Quarterback</td>\n",
       "      <td>QB</td>\n",
       "      <td>QB</td>\n",
       "      <td>10</td>\n",
       "      <td>0</td>\n",
       "    </tr>\n",
       "    <tr>\n",
       "      <td>26624-1-11</td>\n",
       "      <td>NaN</td>\n",
       "      <td>NaN</td>\n",
       "      <td>NaN</td>\n",
       "      <td>0</td>\n",
       "      <td>0</td>\n",
       "      <td>0</td>\n",
       "      <td>0</td>\n",
       "      <td>26624</td>\n",
       "      <td>Quarterback</td>\n",
       "      <td>QB</td>\n",
       "      <td>QB</td>\n",
       "      <td>11</td>\n",
       "      <td>0</td>\n",
       "    </tr>\n",
       "    <tr>\n",
       "      <td>26624-1-12</td>\n",
       "      <td>NaN</td>\n",
       "      <td>NaN</td>\n",
       "      <td>NaN</td>\n",
       "      <td>0</td>\n",
       "      <td>0</td>\n",
       "      <td>0</td>\n",
       "      <td>0</td>\n",
       "      <td>26624</td>\n",
       "      <td>Quarterback</td>\n",
       "      <td>QB</td>\n",
       "      <td>QB</td>\n",
       "      <td>12</td>\n",
       "      <td>0</td>\n",
       "    </tr>\n",
       "    <tr>\n",
       "      <td>26624-1-13</td>\n",
       "      <td>NaN</td>\n",
       "      <td>NaN</td>\n",
       "      <td>NaN</td>\n",
       "      <td>0</td>\n",
       "      <td>0</td>\n",
       "      <td>0</td>\n",
       "      <td>0</td>\n",
       "      <td>26624</td>\n",
       "      <td>Quarterback</td>\n",
       "      <td>QB</td>\n",
       "      <td>QB</td>\n",
       "      <td>13</td>\n",
       "      <td>0</td>\n",
       "    </tr>\n",
       "  </tbody>\n",
       "</table>\n",
       "</div>"
      ],
      "text/plain": [
       "            PlayerKey_left GameID BodyPart  DM_M1  DM_M7  DM_M28  DM_M42  \\\n",
       "PlayKey                                                                    \n",
       "26624-1-1              NaN    NaN      NaN      0      0       0       0   \n",
       "26624-1-10             NaN    NaN      NaN      0      0       0       0   \n",
       "26624-1-11             NaN    NaN      NaN      0      0       0       0   \n",
       "26624-1-12             NaN    NaN      NaN      0      0       0       0   \n",
       "26624-1-13             NaN    NaN      NaN      0      0       0       0   \n",
       "\n",
       "            PlayerKey_right RosterPosition Position PositionGroup  \\\n",
       "PlayKey                                                             \n",
       "26624-1-1             26624    Quarterback       QB            QB   \n",
       "26624-1-10            26624    Quarterback       QB            QB   \n",
       "26624-1-11            26624    Quarterback       QB            QB   \n",
       "26624-1-12            26624    Quarterback       QB            QB   \n",
       "26624-1-13            26624    Quarterback       QB            QB   \n",
       "\n",
       "            PlayerGamePlay  Injury  \n",
       "PlayKey                             \n",
       "26624-1-1                1       0  \n",
       "26624-1-10              10       0  \n",
       "26624-1-11              11       0  \n",
       "26624-1-12              12       0  \n",
       "26624-1-13              13       0  "
      ]
     },
     "execution_count": 340,
     "metadata": {},
     "output_type": "execute_result"
    }
   ],
   "source": [
    "# Remove NA players, because otherwise we won't be able to join them\n",
    "\n",
    "# Создай этот гребанный DF, что сюда закидывать\n",
    "\n",
    "play_inj_df = injuries_dataframe_cleaned.dropna(subset=['PlayKey']).set_index('PlayKey').join(\n",
    "    player_info.set_index('PlayKey'), how='outer', lsuffix = '_left', rsuffix='_right' )\n",
    "\n",
    "\n",
    "# filling the NAN of injuries with zeros.Other doesn't matter to us: we will seek correlations between injuries and\n",
    "# game moments.\n",
    "play_inj_df['DM_M1'] = play_inj_df['DM_M1'].fillna(0).astype(int)\n",
    "play_inj_df['DM_M7'] = play_inj_df['DM_M7'].fillna(0).astype(int)\n",
    "play_inj_df['DM_M28'] = play_inj_df['DM_M28'].fillna(0).astype(int)\n",
    "play_inj_df['DM_M42'] = play_inj_df['DM_M42'].fillna(0).astype(int)\n",
    "\n",
    "play_inj_df.DM_M1 = play_inj_df.DM_M1 - play_inj_df.DM_M7\n",
    "play_inj_df.DM_M7 = play_inj_df.DM_M7 - play_inj_df.DM_M28\n",
    "play_inj_df.DM_M28 = play_inj_df.DM_M28 - play_inj_df.DM_M42\n",
    "\n",
    "\n",
    "# Injury to seek correlation beetween them.If there is an injury, than place 1, otherwise 0(although \n",
    "# when joining DF the default way we will have no non-1 values).\n",
    "play_inj_df['Injury'] = play_inj_df.loc[:, 'DM_M1'] + play_inj_df.loc[:, 'DM_M7'] + (play_inj_df.loc[:, 'DM_M28'] \n",
    "+ play_inj_df.loc[:, 'DM_M42'])\n",
    "\n",
    "\n",
    "\n",
    "# # drop unneeded PlayerKey, PlayKey\n",
    "play_inj_df = play_inj_df.drop(columns=['Surface'])\n",
    "\n",
    "play_inj_df.head()\n",
    "\n",
    "\n",
    "# # We should create dummies for all categorical values.We can use the fucntion on the whole DF.\n",
    "# # Thanks to dropping first there will be no multicorrelation\n",
    "# # Drop FieldType_nan dummies,because they are none.\n",
    "# play_inj_dummies = pd.get_dummies(play_inj_df, columns = ['PlayType', 'PositionGroup'], dummy_na = True, drop_first = True)\n",
    "\n",
    "\n",
    "\n",
    "# # look for the correlations using .corr()\n",
    "# correlated_play = play_inj_dummies.loc[:, ['PlayType_Pass', 'PlayType_Kickoff', 'PlayType_Punt', 'PlayType_Rush',\n",
    "#                                   'PositionGroup_QB', 'PositionGroup_DL', 'PositionGroup_LB', 'PositionGroup_OL',\n",
    "#                                   'PositionGroup_RB', 'PositionGroup_SPEC', 'PositionGroup_TE', 'PositionGroup_WR',\n",
    "#                                   'Injury']].corr()\n",
    "\n",
    "# fig = plt.figure(figsize=(10,10))\n",
    "# # choose_diverging_palette works only in IPython notebooks: interactive choice of colors.Otherwise we can just indicate\n",
    "# # which color we need\n",
    "# sns.heatmap(correlated_play, annot=True)\n",
    "# plt.title('Correlations', color='black')"
   ]
  },
  {
   "cell_type": "code",
   "execution_count": null,
   "metadata": {},
   "outputs": [],
   "source": []
  }
 ],
 "metadata": {
  "kernelspec": {
   "display_name": "Python 3",
   "language": "python",
   "name": "python3"
  },
  "language_info": {
   "codemirror_mode": {
    "name": "ipython",
    "version": 3
   },
   "file_extension": ".py",
   "mimetype": "text/x-python",
   "name": "python",
   "nbconvert_exporter": "python",
   "pygments_lexer": "ipython3",
   "version": "3.7.4"
  }
 },
 "nbformat": 4,
 "nbformat_minor": 2
}
