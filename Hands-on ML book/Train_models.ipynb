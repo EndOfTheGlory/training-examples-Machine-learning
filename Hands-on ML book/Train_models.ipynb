{
 "cells": [
  {
   "cell_type": "markdown",
   "metadata": {},
   "source": [
    "## Linear regression"
   ]
  },
  {
   "cell_type": "markdown",
   "metadata": {},
   "source": [
    "Our goal is to set parameters(thetas) so that they will apply the best way possible.For that we need something to compare results.For that we can use Root Mean Square Error(RMSE)(the square sum of all (deviations)^2/n).But it's just easier to compute MSE(RMSE without square).Disadvantage of MSE is that it can overestimate model's badness with noisy(unreliable data).Every minimazer of MSE is also minimazer of RMSE(and vice versa) => it works good."
   ]
  },
  {
   "cell_type": "markdown",
   "metadata": {},
   "source": [
    "The line is fit in the folowwing way: first we take the average of the y values, make the horizontal line with such y-intecept.Then, with each iteration, we move a slope a little bit and evaluate the least squares.For each slope and intercept we save the value of the least squares sum, in the end we take deriatives and the one with the 0 slope will be the minimum - the answer.How exactly do we get the values for slope and intercept?When we are moving the line, it means we are moving the intercept.For than intercept we take many instances of the slope value and compare their least squares.The minimum and the best slope is exactly the one with deriative 0(looks like 3-deminsional coordinates).Then, if we add the two methods, then we must compare the minimums of all graphs."
   ]
  },
  {
   "cell_type": "markdown",
   "metadata": {},
   "source": [
    "To evaluate model we use $R^2$, which computes the variance of initial median line and new fit line to see how our data changed after we applied new value.For example, the least squares sums for median line were 12, but for new fit line just 2 => our R-square equls to 10/12 ~ 0,83 = 83%.If it hadn't changed or changed just a little, that our value will be around 0% and so on.With the help of R-square our model can get rid of useless features, that doesn't affect the predictions.But, sometimes, especially with the coplex models, we will have a lot of features and, as the result, there is a high chance that some results of randomed skewed data can be misiterpreted affecting the model.To avoid that, we must small p-value with the help of F metric."
   ]
  },
  {
   "cell_type": "markdown",
   "metadata": {},
   "source": [
    "**Beware of perfect collinearity!** If we train model without any regulization, we must either use dummy encoding for categorical variables or exclude the fit-intercept of the model or we will fall in \"dummy variable trap\" or \"collinearity problem\", because we can predict one value perfectly from another(intercept already tells us what equals to left out variables because we can compute it).But in regulization linear models we must not touch k-th column, because otherwise we will shrink(regularization) the difference between basis(left out) parameter and the i-th parameter(columns now mean $\\beta_3 - \\beta_1$, $\\beta_2 - \\beta_1$)<br>\n",
    "[perfect collinearity video](https://www.youtube.com/watch?v=DDRQYKVFoP0)<br>\n",
    "[clearly about why not with regulization](https://stats.stackexchange.com/questions/231285/dropping-one-of-the-columns-when-using-one-hot-encoding)<br>\n",
    "[clearly about collinearities](https://stats.stackexchange.com/questions/224051/one-hot-vs-dummy-encoding-in-scikit-learn)"
   ]
  },
  {
   "cell_type": "markdown",
   "metadata": {},
   "source": [
    "We use normal equation to minimilize the function."
   ]
  },
  {
   "cell_type": "code",
   "execution_count": 2,
   "metadata": {},
   "outputs": [
    {
     "data": {
      "text/plain": [
       "<Figure size 640x480 with 1 Axes>"
      ]
     },
     "metadata": {},
     "output_type": "display_data"
    }
   ],
   "source": [
    "import numpy as np\n",
    "import matplotlib.pyplot as plt\n",
    "\n",
    "X = 2 * np.random.rand(100, 1)\n",
    "y = 2 + 3 * X + np.random.rand(100, 1)\n",
    "plt.plot(X, y, '.')\n",
    "plt.show()"
   ]
  },
  {
   "cell_type": "code",
   "execution_count": 3,
   "metadata": {},
   "outputs": [
    {
     "data": {
      "text/plain": [
       "array([[2.46759217],\n",
       "       [3.02391029]])"
      ]
     },
     "execution_count": 3,
     "metadata": {},
     "output_type": "execute_result"
    }
   ],
   "source": [
    "X_hyp = np.c_[np.ones((100, 1)), X]  # create x_0 = 1 + theta_1 * x_1\n",
    "# According to normal equation formula\n",
    "theta_best = np.linalg.inv(X_hyp.T.dot(X_hyp)).dot(X_hyp.T).dot(y)\n",
    "theta_best"
   ]
  },
  {
   "cell_type": "markdown",
   "metadata": {},
   "source": [
    "Aka $\\theta_0$ ~ 2 and $\\theta_1$ ~ 3, which is according to our equation for X."
   ]
  },
  {
   "cell_type": "code",
   "execution_count": 4,
   "metadata": {},
   "outputs": [
    {
     "data": {
      "text/plain": [
       "array([[ 5.49150246],\n",
       "       [ 8.51541275],\n",
       "       [11.53932304]])"
      ]
     },
     "execution_count": 4,
     "metadata": {},
     "output_type": "execute_result"
    }
   ],
   "source": [
    "X_new = np.array([[1], [2], [3]])\n",
    "X_new_hyp = np.c_[np.ones((3, 1)), X_new]\n",
    "y_predict_new = X_new_hyp.dot(theta_best)\n",
    "y_predict_new"
   ]
  },
  {
   "cell_type": "code",
   "execution_count": 5,
   "metadata": {},
   "outputs": [
    {
     "data": {
      "image/png": "[encoded data removed]",
      "text/plain": [
       "<Figure size 432x288 with 1 Axes>"
      ]
     },
     "metadata": {
      "needs_background": "light"
     },
     "output_type": "display_data"
    }
   ],
   "source": [
    "plt.plot(X, y, '.')\n",
    "plt.plot(X_new, y_predict_new, '-')\n",
    "plt.show()"
   ]
  },
  {
   "cell_type": "markdown",
   "metadata": {},
   "source": [
    "It's the same as:"
   ]
  },
  {
   "cell_type": "code",
   "execution_count": 6,
   "metadata": {},
   "outputs": [
    {
     "name": "stdout",
     "output_type": "stream",
     "text": [
      "[[3.02391029]] [2.46759217]\n"
     ]
    },
    {
     "data": {
      "text/plain": [
       "array([[ 5.49150246],\n",
       "       [ 8.51541275],\n",
       "       [11.53932304]])"
      ]
     },
     "execution_count": 6,
     "metadata": {},
     "output_type": "execute_result"
    }
   ],
   "source": [
    "from sklearn.linear_model import LinearRegression\n",
    "lin_reg = LinearRegression()\n",
    "lin_reg.fit(X, y)\n",
    "print(lin_reg.coef_, lin_reg.intercept_)\n",
    "lin_reg.predict(X_new)"
   ]
  },
  {
   "cell_type": "markdown",
   "metadata": {},
   "source": [
    "Normal equation is pretty slow, so it won't work well for models with many feauters(x-s), so we should use Gradient Descent for that instead.<br>\n",
    "In GD we tweak the parameters until we get a minimum value.E.g. we start with some random theta and take steps to decrese the MSE.Size of the steps is called learning rate and it's important parametr to choose, because if this number is small, than GD will take a long time, otherwise the DG might even diverse, e.g. goining further from the minimum."
   ]
  },
  {
   "cell_type": "markdown",
   "metadata": {},
   "source": [
    "But not all function of GD look like the bucket(quadratic function).Sometimes we may have problem of arriving of local minimum instead, or coming across the plateu, which will take a long time to cross.<br>\n",
    "But we have no problems with that in Linear Regression, that looks like a bowl.Although, we must use the feature scaling, otherwise it may take very long time to converge.<br>\n",
    "So, in the end, training LR means to get such parameters, which will give us the minimum cost function(MSE), but it will not work in high-dimensional(many features) models, because it will be much harder to find."
   ]
  },
  {
   "cell_type": "markdown",
   "metadata": {},
   "source": [
    "We must compute gradient for each parameter(theta) to find how will const function(MSE) change if we tweak a theta a little bit.For that we must take partial deriative(a deriative for each function).It's much better than computing via normal equation, but it still computes X.T * X, which isn't that fast."
   ]
  },
  {
   "cell_type": "code",
   "execution_count": 7,
   "metadata": {},
   "outputs": [
    {
     "name": "stdout",
     "output_type": "stream",
     "text": [
      "[[2.46759217]\n",
      " [3.02391029]]\n"
     ]
    }
   ],
   "source": [
    "eta = 0.1  # learning rate\n",
    "n_iterations = 1000\n",
    "m = 100  # number of the training examples(rows)\n",
    "\n",
    "theta = np.random.randn(2, 1)  # random initialization for the start\n",
    "\n",
    "for iteration in range(n_iterations):\n",
    "    # compute partial deriative\n",
    "    gradient = 2/m * X_hyp.T.dot(X_hyp.dot(theta) - y)\n",
    "    # gradient point upwards => go opposite => substract from theta.\n",
    "    # multiply the step(gradient) by the learning rate to determine it's size\n",
    "    theta = theta - eta * gradient\n",
    "print(theta)"
   ]
  },
  {
   "cell_type": "code",
   "execution_count": 8,
   "metadata": {},
   "outputs": [
    {
     "data": {
      "image/png": "[encoded data removed]",
      "text/plain": [
       "<Figure size 864x432 with 3 Axes>"
      ]
     },
     "metadata": {
      "needs_background": "light"
     },
     "output_type": "display_data"
    }
   ],
   "source": [
    "def grad_desc_plot(theta, eta):\n",
    "    n_iter = 1000\n",
    "    style = 'b-'\n",
    "    plt.plot(X, y, 'b.')\n",
    "    for iteration in range(n_iterations):\n",
    "        if iteration < 10:\n",
    "            y_predict = X_new_hyp.dot(theta)\n",
    "            plt.plot(X_new_hyp, y_predict, style)\n",
    "        gradient = 2/m * X_hyp.T.dot(X_hyp.dot(theta) - y)\n",
    "        theta = theta - eta * gradient\n",
    "    plt.xlabel('$x1 feauture$')\n",
    "    plt.axis([0, 2, 0, 15])\n",
    "    plt.title(\"$\\eta$ = {}\".format(eta))\n",
    "\n",
    "theta = np.random.randn(2, 1)\n",
    "\n",
    "plt.figure(figsize=(12,6))\n",
    "plt.subplot(131)\n",
    "grad_desc_plot(theta, eta=0.01)\n",
    "plt.subplot(132)\n",
    "grad_desc_plot(theta, eta=0.1)\n",
    "plt.subplot(133)\n",
    "grad_desc_plot(theta, eta=0.5)"
   ]
  },
  {
   "cell_type": "markdown",
   "metadata": {},
   "source": [
    "We can find the learning rate for GD via Grid Search with limited time of iterations and stop after smaller than some tiny number E."
   ]
  },
  {
   "cell_type": "markdown",
   "metadata": {},
   "source": [
    "The problem with time in Batch GD can be solved via Stohatic GD, which, as the name implies, uses not the whole data as in Batch GD, but the random one.At the same time, it means that it 'bounces' up and down(going down on average only).So, it won't stop at the end and will continue to bounce, never finding the optimum value like in the first time.But we can change the learning rate for the steps, making them less and less.For that we use learning schelude, which says how we our learning rate will continue to dwindle.Also, SGD has the better chance of finding a global minimum in non-linear, irregular, functions."
   ]
  },
  {
   "cell_type": "code",
   "execution_count": 9,
   "metadata": {},
   "outputs": [],
   "source": [
    "m = 100  # number of the training examples(rows)\n",
    "n_epoch = 50  # each round\n",
    "eta0, eta1 = 5, 50  # so that initially we have 0.1 and go smaller\n",
    "\n",
    "theta = np.random.randn(2, 1)\n",
    "\n",
    "def learning_schedule(t):\n",
    "    return eta0 / (eta1 + t)\n",
    "\n",
    "for epoch in range(n_epoch):\n",
    "    for i in range(m):\n",
    "        rand_id = np.random.randint(m)\n",
    "        x_i = X_hyp[rand_id: rand_id + 1]\n",
    "        y_i = y[rand_id: rand_id + 1]\n",
    "        gradient = 2 * x_i.T.dot(x_i.dot(theta) - y_i)\n",
    "        eta = learning_schedule(m * epoch + i)\n",
    "        theta = theta - eta * gradient"
   ]
  },
  {
   "cell_type": "code",
   "execution_count": 10,
   "metadata": {},
   "outputs": [
    {
     "data": {
      "text/plain": [
       "array([[2.46432186],\n",
       "       [3.00180579]])"
      ]
     },
     "execution_count": 10,
     "metadata": {},
     "output_type": "execute_result"
    }
   ],
   "source": [
    "theta"
   ]
  },
  {
   "cell_type": "code",
   "execution_count": 11,
   "metadata": {},
   "outputs": [
    {
     "name": "stdout",
     "output_type": "stream",
     "text": [
      "[2.44138124] [3.03694387]\n"
     ]
    }
   ],
   "source": [
    "from sklearn.linear_model import SGDRegressor\n",
    "sgd_reg = SGDRegressor(max_iter = 50, eta0=0.1)\n",
    "sgd_reg.fit(X, y.ravel())\n",
    "print(sgd_reg.intercept_, sgd_reg.coef_)"
   ]
  },
  {
   "cell_type": "markdown",
   "metadata": {},
   "source": [
    "## Minibatch Gradient Descent\n",
    "It's the same as SGD, but not so erratic, but a little bit slower, with room for optimization for matrix operations.We take not 1 sample, but a small batch of data.<br>\n",
    "When comparing, Batch GD is the slowest, but the most precise(although it's a little difference), then goes MGD and SGD"
   ]
  },
  {
   "cell_type": "markdown",
   "metadata": {},
   "source": [
    "## Polynominal regression\n",
    "We fit linear model in non-linear data via PR."
   ]
  },
  {
   "cell_type": "code",
   "execution_count": 12,
   "metadata": {},
   "outputs": [
    {
     "data": {
      "text/plain": [
       "[<matplotlib.lines.Line2D at 0x1d58b403b08>]"
      ]
     },
     "execution_count": 12,
     "metadata": {},
     "output_type": "execute_result"
    },
    {
     "data": {
      "image/png": "[encoded data removed]",
      "text/plain": [
       "<Figure size 432x288 with 1 Axes>"
      ]
     },
     "metadata": {
      "needs_background": "light"
     },
     "output_type": "display_data"
    }
   ],
   "source": [
    "m = 200\n",
    "X = 6 * np.random.rand(m, 1) - 5\n",
    "y = 0.5 * X ** 2 + 4 * X + 3 + np.random.randn(m, 1)\n",
    "plt.plot(X, y, 'b.')"
   ]
  },
  {
   "cell_type": "code",
   "execution_count": 13,
   "metadata": {},
   "outputs": [
    {
     "name": "stdout",
     "output_type": "stream",
     "text": [
      "[-3.50968238]\n",
      "[-3.50968238 12.31787041]\n"
     ]
    }
   ],
   "source": [
    "from sklearn.preprocessing import PolynomialFeatures  # to convert into polynomial features(to make feautres)\n",
    "# https://stackoverflow.com/questions/51906274/cannot-understand-with-sklearns-polynomialfeatures\n",
    "poly = PolynomialFeatures(degree=2, include_bias=False)\n",
    "X_poly = poly.fit_transform(X)\n",
    "print(X[0])\n",
    "print(X_poly[0])\n"
   ]
  },
  {
   "cell_type": "code",
   "execution_count": 14,
   "metadata": {},
   "outputs": [
    {
     "name": "stdout",
     "output_type": "stream",
     "text": [
      "[[3.92489627 0.49193428]] [2.87156291]\n"
     ]
    }
   ],
   "source": [
    "lin_reg = LinearRegression()\n",
    "lin_reg.fit(X_poly, y)\n",
    "print(lin_reg.coef_, lin_reg.intercept_)"
   ]
  },
  {
   "cell_type": "markdown",
   "metadata": {},
   "source": [
    "Polynominal can also find relations between features, because it takes all possible combinations(for 'degree=3' it will be $a^2$, $b^2$ $a^3$, $b^3$, and, most importantly for relations, $a^2b$, $ab^2$, $ab$. But because of this we can achieve a **curse of dimensionality**, which will make our data very sparse and => without any meaning."
   ]
  },
  {
   "cell_type": "markdown",
   "metadata": {},
   "source": [
    "In essence, we take features, that are linear, and make them quadratic, so that the line will pass near data points.As I understand, we find relationships between the values and than, according to them, apply our curve.<br>\n",
    "Also there is the same tradeoff as in the classification, called *bias-variance tradeoff*.Bias is how simplistict our data assumption are, high bias indicated *under-fitting*.Variance is exact the opposite, how complex our model is for our data, that implies on *over-fitting*.<br>\n",
    "[wonderful blog](https://towardsdatascience.com/polynomial-regression-bbe8b9d97491)"
   ]
  },
  {
   "cell_type": "markdown",
   "metadata": {},
   "source": [
    "We can decide how complex our data should be using cross-validation to get generalization parameter and RMSE to get how well our model preformce.If generalazation it big, but RMSE is good, then it's overfitting, on other hand, if both are low, then it's underfitting.<br>\n",
    "The second way to evaluate how well our data performce is to look at the learning curve to see how it changes the metrics with the more data."
   ]
  },
  {
   "cell_type": "code",
   "execution_count": 15,
   "metadata": {},
   "outputs": [],
   "source": [
    "from sklearn.metrics import mean_squared_error\n",
    "from sklearn.model_selection import train_test_split\n",
    "\n",
    "def plot_learning_curve(X, y, model):\n",
    "    X_train, X_test, y_train, y_test = train_test_split(X, y)\n",
    "    train_errors, test_errors = [], []\n",
    "    for m in range(1, len(X_train)):\n",
    "        model.fit(X_train[:m], y_train[:m])\n",
    "        y_train_predict = model.predict(X_train[:m])\n",
    "        y_test_predict = model.predict(X_test)\n",
    "        train_errors.append(mean_squared_error(y_train_predict, y_train[:m]))\n",
    "        test_errors.append(mean_squared_error(y_test_predict, y_test))\n",
    "    plt.plot(np.sqrt(train_errors), 'b-', label=\"training set\", linewidth=2)\n",
    "    plt.plot(np.sqrt(test_errors), 'r-', label=\"test set\", linewidth=3)\n",
    "    plt.legend(loc=\"upper right\")"
   ]
  },
  {
   "cell_type": "code",
   "execution_count": 16,
   "metadata": {},
   "outputs": [
    {
     "data": {
      "image/png": "[encoded data removed]",
      "text/plain": [
       "<Figure size 432x288 with 1 Axes>"
      ]
     },
     "metadata": {
      "needs_background": "light"
     },
     "output_type": "display_data"
    }
   ],
   "source": [
    "lin_reg = LinearRegression()\n",
    "plot_learning_curve(X, y, lin_reg)"
   ]
  },
  {
   "cell_type": "markdown",
   "metadata": {},
   "source": [
    "It's the example of underfitting data, they are close high.Let's check with others"
   ]
  },
  {
   "cell_type": "code",
   "execution_count": 17,
   "metadata": {},
   "outputs": [
    {
     "data": {
      "image/png": "[encoded data removed]",
      "text/plain": [
       "<Figure size 432x288 with 1 Axes>"
      ]
     },
     "metadata": {
      "needs_background": "light"
     },
     "output_type": "display_data"
    }
   ],
   "source": [
    "from sklearn.pipeline import Pipeline\n",
    "polynom_regression = Pipeline((\n",
    "    (\"poly_feauters\", PolynomialFeatures(degree=10, include_bias=False)),\n",
    "    (\"lin_reg\", LinearRegression()),\n",
    "))\n",
    "plot_learning_curve(X, y, polynom_regression)\n"
   ]
  },
  {
   "cell_type": "markdown",
   "metadata": {},
   "source": [
    "We see a huge gap here, and error is smaller than in case of Linear Regression, so it's overfitting model.But we can fix the situation using more data."
   ]
  },
  {
   "cell_type": "markdown",
   "metadata": {},
   "source": [
    "The generalization error is the sum of the bias, which implies how much our assumption is wrong, usually used to indicate under-fitting data, variance, that measures sensetivity of the data, and irreducibale error, that occurs becase of the noises and the only way to fix it is to fix the root of the data collecting problem."
   ]
  },
  {
   "cell_type": "markdown",
   "metadata": {},
   "source": [
    "## Regularazation of the models\n",
    "One way to escape overfitting the model is to constrain it, like we did with degrees for Polynomial Regression.Now we will work with weight in Ridge, Lasso and Elastic Net Regressions.<br>\n",
    "Ridge regression is also called L2 regulization, when Lasso is called L1 regulization."
   ]
  },
  {
   "cell_type": "markdown",
   "metadata": {},
   "source": [
    "All following info found in wonderful video [from youtube](https://www.youtube.com/watch?v=Q81RR3yKn30)"
   ]
  },
  {
   "cell_type": "markdown",
   "metadata": {},
   "source": [
    "### Ridge Regression"
   ]
  },
  {
   "cell_type": "markdown",
   "metadata": {},
   "source": [
    "This constrain works based on the trade-off.We pay with a small amount of bias(aka making model intentionally not so good with additional weight) for the significant drop in variance(aka data will fit with other test sets much better).This works in the following way: we add additional weight $\\lambda$ * $slope^2$', which will incline our slope a little bit.With that our initial least squares(linear model) will not be so good, because of the weight.When we move closer to the changed slope, we will get lesser least squares and will accept that model.<br>\n",
    "The formula for Ridge Regression is (sum of squared residuals) + $\\lambda$ * $slope^2$'<br>\n",
    "At the same time, because we make the slope smaller, Ridge Regression is less sensetive to the x axis feauture than the initial least squares model.That's why we must accurately choose lambda, the higher we make it, the less sensetive is our model for the x feature, the slope get assymptoticaly closer to zero.To find the right lambda we just use cross-validation to compare different ones which give the smaller variance."
   ]
  },
  {
   "cell_type": "markdown",
   "metadata": {},
   "source": [
    "The model can work not only with continuos values, but also with discrete.We just make change the slope for boolean: intercept(the mean of the $A$ instance) + difference between the two instances mean * boolean('if value == B return true').So, the sum of the two features will be the mean of the &B& instance.This time, Ridge Regression works with the value that substituted the slope: the difference between two means.It adds $\\lambda * difference^2$.In other words, it makes the difference shrink, which results in more bias: the model becomes less sensetive to the difference between two instances.On other hand, normal leas squares take the deviations from the means of the corresponding instances."
   ]
  },
  {
   "cell_type": "markdown",
   "metadata": {},
   "source": [
    "From above explanation we can conclude, that Ridge Regression can be also applied to the Logistic Regression.It makes the, for example, IsObese less sensetive to the weight."
   ]
  },
  {
   "cell_type": "markdown",
   "metadata": {},
   "source": [
    "Also, we can apply Ridge Regression to more complex models, summing up all parameters in square of the equations, **except** y-intercept.Because every parameter will be scaled by it's feauture value, when y-intersept doesn't have it.So, it will shrink some parameters to make variance lesser."
   ]
  },
  {
   "cell_type": "markdown",
   "metadata": {},
   "source": [
    "One of the biggest advantages of the Ridge Regression is that it can make good predictions even when there isn't enough data.For example, for 2 feautures we will have intercept and 1 parameter.If we have only 1 data point, we can't tell which line passes through in the better the dot.Least square model will give us the same results.So, for least squares we need at least two data points.The same goes for higher dimensions.For 3 feautres we can't say which plane passes though better than other with just 2 data points, but with 3 it goes OK.So, if we have $n$ features, we must have at least n data points.But it can be insanely expensive, for example, to collect genomes for each instance.So, we use Ridge Regression, drop all the squared parameters in the sum, use penalty(cross-validation to choose one) and tune the model.We can see that it will perfom well. "
   ]
  },
  {
   "cell_type": "markdown",
   "metadata": {},
   "source": [
    "In the end, we use Ridge regression when we don't have enough samples, making the samples less sensetive to the training data, ensuring the future predictions from new data will be better."
   ]
  },
  {
   "cell_type": "code",
   "execution_count": 18,
   "metadata": {},
   "outputs": [
    {
     "data": {
      "text/plain": [
       "array([[4.78779571]])"
      ]
     },
     "execution_count": 18,
     "metadata": {},
     "output_type": "execute_result"
    }
   ],
   "source": [
    "# Using closed-form solution\n",
    "from sklearn.linear_model import Ridge\n",
    "ridge_reg = Ridge(alpha=1, solver='cholesky')\n",
    "ridge_reg.fit(X, y)\n",
    "ridge_reg.predict([[1]])"
   ]
  },
  {
   "cell_type": "code",
   "execution_count": 19,
   "metadata": {},
   "outputs": [
    {
     "data": {
      "text/plain": [
       "array([4.69976978])"
      ]
     },
     "execution_count": 19,
     "metadata": {},
     "output_type": "execute_result"
    }
   ],
   "source": [
    "# Using gradient descent(Stohatic)\n",
    "sgd_reg = SGDRegressor(penalty='l2')  # L2 = RidgeRegression\n",
    "sgd_reg.fit(X, y.ravel())\n",
    "sgd_reg.predict([[1]])"
   ]
  },
  {
   "cell_type": "markdown",
   "metadata": {},
   "source": [
    "### Lasso ( Leas Absolute Shrinkage and Selection Operator)"
   ]
  },
  {
   "cell_type": "markdown",
   "metadata": {},
   "source": [
    "Almost the same as Ridge Regression, but the biggest difference is that the additional weight is computed via absolute value of the slope(all parameters except y-intercept), aka $\\lambda * (|paremetr 1| + |parameter 2| + ... |parameter n|)$.It allows us to exclude the values that play no role in prediction, because can not just go assyptoticaly to zero, but equl to zero."
   ]
  },
  {
   "cell_type": "markdown",
   "metadata": {},
   "source": [
    "Coefficient(lambda) is also searched via cross-validation.It works the following way: we divide train data in n folds(usually 10 and is called 10-folds cross-validation) and sum the errors of each fold for each instance of lambda.In the end, we have overall score of 10 folds.We compare this score with each other and choose the minimum, which will work the best way.<br>\n",
    "Can also be used to find the best model for training data."
   ]
  },
  {
   "cell_type": "code",
   "execution_count": 20,
   "metadata": {},
   "outputs": [
    {
     "data": {
      "text/plain": [
       "array([4.70981298])"
      ]
     },
     "execution_count": 20,
     "metadata": {},
     "output_type": "execute_result"
    }
   ],
   "source": [
    "from sklearn.linear_model import Lasso\n",
    "lasso_reg = Lasso(alpha=0.1)\n",
    "lasso_reg.fit(X, y)\n",
    "lasso_reg.predict([[1]])\n",
    "# can do the same with SGDRegressor using l1 penalty"
   ]
  },
  {
   "cell_type": "markdown",
   "metadata": {},
   "source": [
    "### Elastic Net\n",
    "The mix of both Ridge Regression and Lasso Regression with regulated parameter $r$, which says how much influence one regression has over other(0 - Ridge Regression, 1 - Lasso).<br>\n",
    "Formula = MSE + $r * \\lambda * sum(|\\theta_i|)$ +  1-r/2 * $\\lambda$ * sum($\\theta ^ 2$)"
   ]
  },
  {
   "cell_type": "markdown",
   "metadata": {},
   "source": [
    "Which is preferable to use when?Plain LR is mostly unused, the default is Ridge to avoid overfit.But if we suspect, that most of the features are useless, we must use Lasso or, to be safe of hardships with Lasso because of data set is smaller than the number of features(or some values are highly correlated), it's better to use Elastic Net."
   ]
  },
  {
   "cell_type": "code",
   "execution_count": 21,
   "metadata": {},
   "outputs": [
    {
     "data": {
      "text/plain": [
       "array([4.66450326])"
      ]
     },
     "execution_count": 21,
     "metadata": {},
     "output_type": "execute_result"
    }
   ],
   "source": [
    "from sklearn.linear_model import ElasticNet\n",
    "elastic_net = ElasticNet(alpha=0.1, l1_ratio = 0.5)  # l1_ratio = r\n",
    "elastic_net.fit(X, y)\n",
    "from sklearn.base import cloneelastic_net.predict([[1]])"
   ]
  },
  {
   "cell_type": "markdown",
   "metadata": {},
   "source": [
    "In other words, Elastic Net shrinks and groups the parameters of the correlated feautures.If they are useless, they are removed all at once.Otherway, they are all left behind."
   ]
  },
  {
   "cell_type": "markdown",
   "metadata": {},
   "source": [
    "### Early stopping\n",
    "This is a technique to stop iterative learning algorithms like Gradient Descent.We just insure we won't overfit the model when the model reaches minimum via Batch GD or starts rising from the current minimum for quite some time in random algorithms such as Stohatic and Minibatch GD."
   ]
  },
  {
   "cell_type": "code",
   "execution_count": 50,
   "metadata": {},
   "outputs": [
    {
     "data": {
      "text/plain": [
       "84.68603535171573"
      ]
     },
     "execution_count": 50,
     "metadata": {},
     "output_type": "execute_result"
    }
   ],
   "source": [
    "from sklearn.base import clone\n",
    "from sklearn.preprocessing import StandardScaler\n",
    "\n",
    "m = 100\n",
    "X = 6 * np.random.rand(m, 1) - 3\n",
    "y = 2 + X + 0.5 * X**2 + np.random.randn(m, 1)\n",
    "\n",
    "# Create pipeline to transform into polynomial feautures(with obvious overfit) and scale them for GD\n",
    "poly_transform_scale = Pipeline((\n",
    "    (\"poly_feauters\", PolynomialFeatures(degree=90, include_bias=False)),\n",
    "    (\"sclaer\", StandardScaler()),\n",
    "))\n",
    "\n",
    "X_train, X_val, y_train, y_val = train_test_split(X, y.ravel(), test_size=0.5)\n",
    "\n",
    "# We must fit one time first so we can transform them\n",
    "X_train_poly = poly_transform_scale.fit_transform(X_train)\n",
    "X_val_poly = poly_transform_scale.transform(X_val)\n",
    "\n",
    "sgd_reg = SGDRegressor(eta0=0.005, learning_rate='constant', max_iter=1, warm_start=True, penalty=None, tol=-np.infty)\n",
    "# Note! warm_start parameter shows model to complete training after the stop!Change 'tol' to None to avoid stopping model\n",
    "best_model = None\n",
    "best_epoch = None\n",
    "min_error = float(\"inf\")\n",
    "for epoch in range(1000):\n",
    "    sgd_reg.fit(X_train_poly, y_train)\n",
    "    y_predict = sgd_reg.predict(X_val_poly)\n",
    "    val_error = mean_squared_error(y_val, y_predict)\n",
    "    if val_error < min_error:\n",
    "        min_error = val_error\n",
    "        best_epoch = epoch\n",
    "        best_model = clone(sgd_reg)\n",
    "min_error"
   ]
  },
  {
   "cell_type": "code",
   "execution_count": 52,
   "metadata": {},
   "outputs": [
    {
     "data": {
      "text/plain": [
       "0"
      ]
     },
     "execution_count": 52,
     "metadata": {},
     "output_type": "execute_result"
    }
   ],
   "source": [
    "best_epoch"
   ]
  },
  {
   "cell_type": "code",
   "execution_count": 43,
   "metadata": {},
   "outputs": [],
   "source": [
    "m = 100\n",
    "X = 6 * np.random.rand(m, 1) - 3\n",
    "y = 2 + X + 0.5 * X**2 + np.random.randn(m, 1)\n",
    "\n",
    "X_train, X_val, y_train, y_val = train_test_split(X[:50], y[:50].ravel(), test_size=0.5, random_state=10)\n",
    "\n",
    "poly_scaler = Pipeline([\n",
    "        (\"poly_features\", PolynomialFeatures(degree=90, include_bias=False)),\n",
    "        (\"std_scaler\", StandardScaler()),\n",
    "    ])\n",
    "\n",
    "X_train_poly_scaled = poly_scaler.fit_transform(X_train)\n",
    "X_val_poly_scaled = poly_scaler.transform(X_val)\n",
    "\n",
    "sgd_reg = SGDRegressor(max_iter=1,\n",
    "                       tol=-np.infty,\n",
    "                       penalty=None,\n",
    "                       eta0=0.0005,\n",
    "                       warm_start=True,\n",
    "                       learning_rate=\"constant\",\n",
    "                       random_state=42)\n",
    "\n",
    "n_epochs = 500\n",
    "train_errors, val_errors = [], []\n",
    "for epoch in range(n_epochs):\n",
    "    sgd_reg.fit(X_train_poly_scaled, y_train)\n",
    "    y_train_predict = sgd_reg.predict(X_train_poly_scaled)\n",
    "    y_val_predict = sgd_reg.predict(X_val_poly_scaled)\n",
    "    train_errors.append(mean_squared_error(y_train, y_train_predict))\n",
    "    val_errors.append(mean_squared_error(y_val, y_val_predict))\n",
    "\n",
    "best_epoch = np.argmin(val_errors)\n",
    "best_val_rmse = np.sqrt(val_errors[best_epoch])"
   ]
  },
  {
   "cell_type": "markdown",
   "metadata": {},
   "source": [
    "## Logistic Regression\n",
    "Regression that can be used for classification.Main idea behind algorithm is to calculate the probability it belong to the class.If it's higher than 50%, then it is sorted in that class, otherwise it is declined."
   ]
  },
  {
   "cell_type": "markdown",
   "metadata": {},
   "source": [
    "So, Logistic regression is used to predict if value is true or not.If it's classification, it uses this scores to classify the data, otherwise it predicts the probability of truth.As linear regressions, it can use multiply feautures, both discrete and continuos.But unlike regression, it can't compare more complex and simple models, because there is no such concept as $R^2$ as in case of linear regressions.Instead of least squares it uses something called **maximum likelihood** to calculate how well this model perfoms on the given data(they are multiplied and the maximum of all models is take as the logistic regression).It also can reject usless features, assesing if they are *totes useless*.Do to that we just test data to see if it's effect on the data is significatly different from 0(we just throw it out and look).To asses if it's useless or not, we use *Walde's test*."
   ]
  },
  {
   "cell_type": "markdown",
   "metadata": {},
   "source": [
    "We use estimated probability *p* to build cost-function, that uses negative logariphm of that p.The main idea is to set parameters $\\theta$ so that it will high probabilities if the instance is positive and low pobabilities if instance is negative.So, we estimate $-log(p) if y = 1 $and $-log(1 - p) if y = 0$.<br>\n",
    "As such, we can built similar cost function to the linear regression.But this time we can't use closed-form equation to compute everything in one go, but because function is convex, we can use iterative algorithm to find global minimum using Gradient Descent.Suprisingly, deriatives from *log loss*(logistic cost function) is almost the same as for linear."
   ]
  },
  {
   "cell_type": "markdown",
   "metadata": {},
   "source": [
    "Let's predict Iris-Vedinica type of plants using petal width."
   ]
  },
  {
   "cell_type": "code",
   "execution_count": 65,
   "metadata": {},
   "outputs": [
    {
     "data": {
      "text/plain": [
       "array([0, 0, 0, 0, 0, 0, 0, 0, 0, 0, 0, 0, 0, 0, 0, 0, 0, 0, 0, 0, 0, 0,\n",
       "       0, 0, 0, 0, 0, 0, 0, 0, 0, 0, 0, 0, 0, 0, 0, 0, 0, 0, 0, 0, 0, 0,\n",
       "       0, 0, 0, 0, 0, 0, 0, 0, 0, 0, 0, 0, 0, 0, 0, 0, 0, 0, 0, 0, 0, 0,\n",
       "       0, 0, 0, 0, 0, 0, 0, 0, 0, 0, 0, 0, 0, 0, 0, 0, 0, 0, 0, 0, 0, 0,\n",
       "       0, 0, 0, 0, 0, 0, 0, 0, 0, 0, 0, 0, 1, 1, 1, 1, 1, 1, 1, 1, 1, 1,\n",
       "       1, 1, 1, 1, 1, 1, 1, 1, 1, 1, 1, 1, 1, 1, 1, 1, 1, 1, 1, 1, 1, 1,\n",
       "       1, 1, 1, 1, 1, 1, 1, 1, 1, 1, 1, 1, 1, 1, 1, 1, 1, 1])"
      ]
     },
     "execution_count": 65,
     "metadata": {},
     "output_type": "execute_result"
    }
   ],
   "source": [
    "from sklearn import datasets\n",
    "iris = datasets.load_iris()\n",
    "list(iris.keys())\n",
    "X = iris['data'][:, 3:]  # just petal width\n",
    "# convert target values in boolean base on if it is Iris-Veginica or not\n",
    "y = (iris['target'] == 2).astype(int)"
   ]
  },
  {
   "cell_type": "code",
   "execution_count": 68,
   "metadata": {},
   "outputs": [
    {
     "name": "stderr",
     "output_type": "stream",
     "text": [
      "C:\\Users\\1\\Anaconda3\\lib\\site-packages\\sklearn\\linear_model\\logistic.py:432: FutureWarning: Default solver will be changed to 'lbfgs' in 0.22. Specify a solver to silence this warning.\n",
      "  FutureWarning)\n"
     ]
    },
    {
     "data": {
      "text/plain": [
       "LogisticRegression(C=1.0, class_weight=None, dual=False, fit_intercept=True,\n",
       "                   intercept_scaling=1, l1_ratio=None, max_iter=100,\n",
       "                   multi_class='warn', n_jobs=None, penalty='l2',\n",
       "                   random_state=None, solver='warn', tol=0.0001, verbose=0,\n",
       "                   warm_start=False)"
      ]
     },
     "execution_count": 68,
     "metadata": {},
     "output_type": "execute_result"
    }
   ],
   "source": [
    "from sklearn.linear_model import LogisticRegression\n",
    "log_reg = LogisticRegression()\n",
    "log_reg.fit(X, y)"
   ]
  },
  {
   "cell_type": "code",
   "execution_count": 84,
   "metadata": {},
   "outputs": [
    {
     "data": {
      "text/plain": [
       "[<matplotlib.lines.Line2D at 0x1d58b3af848>]"
      ]
     },
     "execution_count": 84,
     "metadata": {},
     "output_type": "execute_result"
    },
    {
     "data": {
      "image/png": "[encoded data removed]",
      "text/plain": [
       "<Figure size 432x288 with 1 Axes>"
      ]
     },
     "metadata": {
      "needs_background": "light"
     },
     "output_type": "display_data"
    }
   ],
   "source": [
    "# let's build artifical dataset with petals varying from 0 to 3\n",
    "X_new = np.linspace(0, 3, 1000).reshape(-1, 1)\n",
    "y_predict = log_reg.predict_proba(X_new)  # outputs the probabilities, not true-false values\n",
    "plt.plot(X_new, y_predict[:, 1], \"g-\", label=\"Iris-Verdinica\")\n",
    "plt.plot(X_new, y_predict[:, 0], \"r--\", label=\"Others\")\n",
    "plt.legend()\n",
    "plt.ylabel(\"Probability\", fontsize=12)\n",
    "plt.xlabel(\"Petal width\", fontsize=12)\n",
    "# Draw deceion-boundary.\n",
    "desicion_boundary = X_new[y_predict[:, 1] >= 0.5][0]\n",
    "plt.plot([decision_boundary, decision_boundary], [0, 1], 'k:', label='decision boundary')"
   ]
  },
  {
   "cell_type": "markdown",
   "metadata": {},
   "source": [
    "As we can see, decision boundary is around 1,6.In other words, if go beyond 1,6 classifier will output true(because >50%), otherwise it will output false.Values after 2 and values before 1 will be obviously distributed as true and false, because we have are confident about that from high and low probabilities.But between that extremes, classifier is unsure.Altough it's not confident, it still outputs accroding to its master-decision boundary."
   ]
  },
  {
   "cell_type": "code",
   "execution_count": 88,
   "metadata": {},
   "outputs": [
    {
     "data": {
      "text/plain": [
       "array([1, 0])"
      ]
     },
     "execution_count": 88,
     "metadata": {},
     "output_type": "execute_result"
    }
   ],
   "source": [
    "log_reg.predict([[1.7], [1.5]])"
   ]
  },
  {
   "cell_type": "markdown",
   "metadata": {},
   "source": [
    "## Softmax Regression\n",
    "Instead of training multiple Logistic Regressions for many classes and then combining them, we can use Softmax Regression, that"
   ]
  },
  {
   "cell_type": "markdown",
   "metadata": {},
   "source": [
    "There is no particular order for the possible outcomes(it's nominal dependent variable).We can have two and more output classes for this regression(not just binary as in case of logistic), as well many independent variables.<br>\n",
    "Simple approach it to build k binary logistic regressions for k outcomes: let's assume we have 3 possibles outcomes (A, B, C).We build model where A is truth and B,C is false, than we do the same for all other classes.We take the probabilities for each outcome(p(A), p(B) and p(C)) and compare with each other.We will accept the one with the highest probability score as the truth.<br>\n",
    "More advanced approach is just to take k-1 values, because probabilities of all k - 1 values + the last one equals to the 1.So, we can choose one outcome as a baseline and act according to that.In this case you divide probabiliy of one instance in the sum of probability for all other instances(which is probability of our baseline feature in essence).It's a way to normalize probabilites(make them between 0 and 1, common scale[blog](https://medium.com/@swethalakshmanan14/how-when-and-why-should-you-normalize-standardize-rescale-your-data-3f083def38ff)).[video about essence of multinoinal(softmax) regression](https://www.youtube.com/watch?v=Mi992wr6zKc)<br>\n",
    "We use cross-entropy to minimize the function.It has the same meaning as in logistic regression: when probability is high, it will assign big value, otherwise low value.[read here](https://machinelearningmastery.com/cross-entropy-for-machine-learning/)<br>\n",
    "This regression can be used to only output one instance(like the type of flower) and not multiply(all people on the picture)."
   ]
  },
  {
   "cell_type": "code",
   "execution_count": 91,
   "metadata": {},
   "outputs": [
    {
     "data": {
      "text/plain": [
       "array([0, 0, 0, 0, 0, 0, 0, 0, 0, 0, 0, 0, 0, 0, 0, 0, 0, 0, 0, 0, 0, 0,\n",
       "       0, 0, 0, 0, 0, 0, 0, 0, 0, 0, 0, 0, 0, 0, 0, 0, 0, 0, 0, 0, 0, 0,\n",
       "       0, 0, 0, 0, 0, 0, 1, 1, 1, 1, 1, 1, 1, 1, 1, 1, 1, 1, 1, 1, 1, 1,\n",
       "       1, 1, 1, 1, 1, 1, 1, 1, 1, 1, 1, 1, 1, 1, 1, 1, 1, 1, 1, 1, 1, 1,\n",
       "       1, 1, 1, 1, 1, 1, 1, 1, 1, 1, 1, 1, 2, 2, 2, 2, 2, 2, 2, 2, 2, 2,\n",
       "       2, 2, 2, 2, 2, 2, 2, 2, 2, 2, 2, 2, 2, 2, 2, 2, 2, 2, 2, 2, 2, 2,\n",
       "       2, 2, 2, 2, 2, 2, 2, 2, 2, 2, 2, 2, 2, 2, 2, 2, 2, 2])"
      ]
     },
     "execution_count": 91,
     "metadata": {},
     "output_type": "execute_result"
    }
   ],
   "source": [
    "X = iris[\"data\"][:, (2, 3)]  # petal width and length\n",
    "y = iris[\"target\"]\n",
    "# multi_class indicate that we now use softmax, solver lbfgs is used for L2 regulization, the lower is C, the higher is lambda\n",
    "softmax_reg = LogisticRegression(solver=\"lbfgs\", multi_class=\"multinomial\", C=10)\n",
    "softmax_reg.fit(X, y)"
   ]
  },
  {
   "cell_type": "code",
   "execution_count": 92,
   "metadata": {},
   "outputs": [
    {
     "data": {
      "text/plain": [
       "array([2])"
      ]
     },
     "execution_count": 92,
     "metadata": {},
     "output_type": "execute_result"
    }
   ],
   "source": [
    "softmax_reg.predict([[5, 2]])  # petal with 5 cm length and 2 width is Iris-Verginica"
   ]
  },
  {
   "cell_type": "code",
   "execution_count": 93,
   "metadata": {},
   "outputs": [
    {
     "data": {
      "text/plain": [
       "array([[6.38014896e-07, 5.74929995e-02, 9.42506362e-01]])"
      ]
     },
     "execution_count": 93,
     "metadata": {},
     "output_type": "execute_result"
    }
   ],
   "source": [
    "softmax_reg.predict_proba([[5, 2]])"
   ]
  },
  {
   "cell_type": "markdown",
   "metadata": {},
   "source": [
    "We must use regulization for LR, because with large number of independent variables(parameters) it will fit the data almost perfectly and obviously result in overfit.Also, it will tailor the function if amount of given data was small.<br>\n",
    "[About solving methods](https://stackoverflow.com/questions/38640109/logistic-regression-python-solvers-defintions/52388406)"
   ]
  },
  {
   "cell_type": "markdown",
   "metadata": {},
   "source": [
    "### More information about logistic regression\n",
    "Logistic regression is, as well as simple regression and polynomial regression, a patf of Generilized linear model(which is trying to fit some template for all algorithms).Actually, the only actual difference is that we work with data points, that situates itself in negative and positive infinity, so we can't find the least square fit.But, we can actually easily solve this problem if we think of y-axis as logs of the odds.The odd is not the same as probability: it shows us how much our data is skewed(aka, 5 blue points, 4 red ones => odds are 5/4, not 5/9 like probability).We take the logs, because positive 'inclanation' is between 1 and infinity, when negative one is between 0 and 1.So, to make odds symmetric and usable, we take the logs.So, in the end, we can transform logs of the odds y-axis in probability, that we use for logistic regression.Also, the equation for logistic regression is built via encoding the categorical variables(we create n-1 variables from all n possible outcomes, taking one as a basis(we will substract from one possibility the other) to avoid the perfect correlation).<br>\n",
    "The line is created the following way: we project data on the line in graph with log(odds), transform to probability and then evaluate something called *maximum likelihood*, which in essence is just probability(plays the same role as least square for linear regression).Than we can check if all parameters are non-useless with the help of p-value(the possibility for null-hypothesis(the opposite to the desired outcome) or something even rarer happening), which is also computed with the help of $R^2$, which can be computed in 10 different ways(but essentialy, almost the same).If p-value is lower than 0,05 than the correlation is statisticaly significant, otherwise we can delete the feature.<br>\n",
    "The coefficients for logistic regression are the same as for linear model(y-intercept and slope(regulated by variables, like, for example, weight), it shows the scalar for features, standard error and z-score(how many standard deviations above the data we are, is it statisticaly significant).The interesting thing starts when we work without continuous(just probability) variables, where we make \"switches\" for the means of categorical outcomes.By convention, we just summ everythin up(for i > 2 outcomes there is difference between the means to make better-looking design matrix, which is needed to compute t-test to check correlations between varibales).In coefficients this time we take for the intercept the first mean and other show how having one variable increaces(dicreases) on the log scale the odds of true."
   ]
  },
  {
   "cell_type": "markdown",
   "metadata": {},
   "source": [
    "Also, there are some test to find correlations, like t-test for continuous and categorical varibales(computed comparing the mean), ANOVA(analysis of variance, which is essentially just many t-tests for many categorical features), Chi-square test for comparing two(or more) categorical varibales and so on."
   ]
  },
  {
   "cell_type": "markdown",
   "metadata": {},
   "source": [
    "Mostly taken from series for logistic regression:<br>\n",
    "[see for better understanding](https://www.youtube.com/watch?v=vN5cNN2-HWE&t=946s)"
   ]
  },
  {
   "cell_type": "code",
   "execution_count": null,
   "metadata": {},
   "outputs": [],
   "source": []
  }
 ],
 "metadata": {
  "kernelspec": {
   "display_name": "Python 3",
   "language": "python",
   "name": "python3"
  },
  "language_info": {
   "codemirror_mode": {
    "name": "ipython",
    "version": 3
   },
   "file_extension": ".py",
   "mimetype": "text/x-python",
   "name": "python",
   "nbconvert_exporter": "python",
   "pygments_lexer": "ipython3",
   "version": "3.7.4"
  }
 },
 "nbformat": 4,
 "nbformat_minor": 2
}
